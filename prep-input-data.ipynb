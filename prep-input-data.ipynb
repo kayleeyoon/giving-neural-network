{
 "cells": [
  {
   "cell_type": "code",
   "execution_count": null,
   "metadata": {},
   "outputs": [],
   "source": [
    "import pandas as pd\n",
    "import numpy as np\n",
    "from datetime import datetime as dt\n",
    "\n",
    "predictingFY = 18\n",
    "FY_end = dt.strptime('05/31/2017', '%m/%d/%Y')\n",
    "pd.set_option('display.max_columns', None) "
   ]
  },
  {
   "cell_type": "code",
   "execution_count": null,
   "metadata": {},
   "outputs": [],
   "source": [
    "data = pd.read_csv('./report.csv', dtype='str')\n",
    "data.columns = data.columns.str.replace(' ', '_')\n",
    "data.columns = data.columns.str.replace(':', '')\n",
    "data.columns = data.columns.str.replace('.', '')"
   ]
  },
  {
   "cell_type": "code",
   "execution_count": null,
   "metadata": {},
   "outputs": [],
   "source": [
    "data.head()"
   ]
  },
  {
   "cell_type": "code",
   "execution_count": null,
   "metadata": {},
   "outputs": [],
   "source": [
    "# create map to store contact giving information\n",
    "con_giving = {}\n",
    "for contactId in data['Contact_ID'] :\n",
    "    con_giving[contactId] = {'Largest_Gift':0, 'Num_Gifts_LFY':0, 'Num_Gifts_2FY':0, 'Num_Gifts_3FY':0, \n",
    "                             'Num_Gifts':0, 'FY_Given':set(), 'SC_Giving': 0, 'HC_Giving':0, 'Balance_Expected_NFY':0}"
   ]
  },
  {
   "cell_type": "code",
   "execution_count": null,
   "metadata": {},
   "outputs": [],
   "source": [
    "# go through each row to summarize contact information\n",
    "for row in data.itertuples():\n",
    "    if not pd.isnull(row.Fiscal_Year):\n",
    "        rowFY = int(row.Fiscal_Year[-2:])\n",
    "        if rowFY != predictingFY and rowFY != predictingFY + 1 :\n",
    "            if (pd.isnull(row.Stage) or row.Stage == 'Completed') and row.Record_Type not in ('Split Gift', 'Pledge', 'Intention', 'Pledge Canceled Value'):  \n",
    "                con_giving[row.Contact_ID]['FY_Given'].add(rowFY)\n",
    "                con_giving[row.Contact_ID]['Num_Gifts'] += 1\n",
    "\n",
    "                if con_giving[row.Contact_ID]['Largest_Gift'] < float(row.Analytics_Amount):\n",
    "                    con_giving[row.Contact_ID]['Largest_Gift'] = float(row.Analytics_Amount)\n",
    "\n",
    "                if rowFY == (predictingFY - 1):  \n",
    "                    con_giving[row.Contact_ID]['Num_Gifts_LFY'] += 1\n",
    "                elif rowFY == (predictingFY - 2):  \n",
    "                    con_giving[row.Contact_ID]['Num_Gifts_2FY'] += 1\n",
    "                elif rowFY == (predictingFY - 3):  \n",
    "                    con_giving[row.Contact_ID]['Num_Gifts_3FY'] += 1\n",
    "\n",
    "                if row.Record_Type == 'Credit':\n",
    "                    con_giving[row.Contact_ID]['SC_Giving'] += float(row.Analytics_Amount)\n",
    "                else:\n",
    "                    con_giving[row.Contact_ID]['HC_Giving'] += float(row.Analytics_Amount)\n",
    "        elif rowFY == predictingFY: \n",
    "            if row.Record_Type in ('Payment', 'Intention'):\n",
    "                con_giving[row.Contact_ID]['Balance_Expected_NFY'] += float(row.Analytics_Amount)"
   ]
  },
  {
   "cell_type": "code",
   "execution_count": null,
   "metadata": {},
   "outputs": [],
   "source": [
    "# now that I'm done using giving data, we can get rid of all duplicate contact Id rows and giving info\n",
    "data = data.drop_duplicates(subset='Contact_ID', keep='first')\n",
    "data = data.drop(['Analytics_Amount', 'Campaign_Code', 'Proposal_Opportunity_Name', \n",
    "                  'Record_Type', 'Stage', 'Type', 'Fiscal_Year', 'Giving_ID'], axis=1)\n",
    "data = data.set_index('Contact_ID')"
   ]
  },
  {
   "cell_type": "code",
   "execution_count": null,
   "metadata": {},
   "outputs": [],
   "source": [
    "data['Largest_Gift'] = 0\n",
    "data['Num_Gifts_LFY'] = 0\n",
    "data['Num_Gifts_2FY'] = 0\n",
    "data['Num_Gifts_3FY'] = 0\n",
    "data['Num_Gifts'] = 0\n",
    "data['Num_FY_Given'] = 0\n",
    "data['HC_Giving'] = 0\n",
    "data['SC_Giving'] = 0\n",
    "data['Balance_Expected_NFY'] = 0\n",
    "data['SC_Giving'] = 0\n",
    "data['Avg_Gift_Amount'] = 0\n",
    "data['Avg_Gifts_Per_Year'] = 0\n",
    "data['All_Giving'] = 0\n",
    "data['num_active_comm_groups'] = 0"
   ]
  },
  {
   "cell_type": "code",
   "execution_count": null,
   "metadata": {},
   "outputs": [],
   "source": [
    "counter = len(con_giving)\n",
    "for con_id in con_giving:\n",
    "    if con_giving[con_id]['Num_Gifts'] > 0:\n",
    "        print(counter)\n",
    "        data.loc[con_id, 'Largest_Gift'] = con_giving[con_id]['Largest_Gift']\n",
    "        data.loc[con_id, 'Num_Gifts_LFY'] = con_giving[con_id]['Num_Gifts_LFY']\n",
    "        data.loc[con_id, 'Num_Gifts_2FY'] = con_giving[con_id]['Num_Gifts_2FY']\n",
    "        data.loc[con_id, 'Num_Gifts_3FY'] = con_giving[con_id]['Num_Gifts_3FY']\n",
    "        data.loc[con_id, 'Num_Gifts'] = con_giving[con_id]['Num_Gifts']\n",
    "        data.loc[con_id, 'Num_FY_Given'] = len(con_giving[con_id]['FY_Given'])\n",
    "        data.loc[con_id, 'Num_Gifts'] = con_giving[con_id]['Num_Gifts']\n",
    "        data.loc[con_id, 'HC_Giving'] = con_giving[con_id]['HC_Giving']\n",
    "        data.loc[con_id, 'SC_Giving'] = con_giving[con_id]['SC_Giving']\n",
    "        data.loc[con_id, 'Balance_Expected_NFY'] = con_giving[con_id]['Balance_Expected_NFY']\n",
    "        data.loc[con_id, 'SC_Giving'] = con_giving[con_id]['SC_Giving']\n",
    "        all_giving = float(con_giving[con_id]['HC_Giving']) + float(con_giving[con_id]['SC_Giving'])\n",
    "        data.loc[con_id, 'All_Giving'] = all_giving\n",
    "        data.loc[con_id, 'Avg_Gift_Amount'] = all_giving/con_giving[con_id]['Num_Gifts']\n",
    "        data.loc[con_id, 'Avg_Gifts_Per_Year'] = con_giving[con_id]['Num_Gifts']/len(con_giving[con_id]['FY_Given'])\n",
    "        counter -= 1"
   ]
  },
  {
   "cell_type": "code",
   "execution_count": null,
   "metadata": {},
   "outputs": [],
   "source": [
    "# Assign value 0-3 based on prospect priority\n",
    "data['prospect_priority'] = 0\n",
    "data.loc[data.Prospect_Priority == 'top', 'prospect_priority'] = 3 \n",
    "data.loc[data.Prospect_Priority == 'mid', 'prospect_priority'] = 2 \n",
    "data.loc[data.Prospect_Priority == 'low', 'prospect_priority'] = 1 \n",
    "\n",
    "data = data.drop(['Prospect_Priority'], axis=1)"
   ]
  },
  {
   "cell_type": "code",
   "execution_count": null,
   "metadata": {},
   "outputs": [],
   "source": [
    "# Assign value based on top constituency for account\n",
    "data['acct_top_const'] = 0\n",
    "data.loc[data.Top_Priority_Constituency.isin(['Alumni-Graduate', 'Non-Person Portfolio', 'Plaque', 'Student Ministries Only Donor']), 'acct_top_const'] = 15\n",
    "data.loc[data.Top_Priority_Constituency.isin(['Alumni-Nongraduate', 'Student']), 'acct_top_const'] = 14\n",
    "data.loc[data.Top_Priority_Constituency.isin(['Current Parent']), 'acct_top_const'] = 13\n",
    "data.loc[data.Top_Priority_Constituency.isin(['Parent']), 'acct_top_const'] = 12\n",
    "data.loc[data.Top_Priority_Constituency.isin(['Grandparent']), 'acct_top_const'] = 11\n",
    "data.loc[data.Top_Priority_Constituency.isin(['Faculty', 'Former Emp Unkown']), 'acct_top_const'] = 10\n",
    "data.loc[data.Top_Priority_Constituency.isin(['Alumni-Nongraduate', 'Student', 'Former Faculty', 'Former Staff', 'Staff', 'Professor']), 'acct_top_const'] = 9\n",
    "data.loc[data.Top_Priority_Constituency.isin(['Professor Emeritus']), 'acct_top_const'] = 8\n",
    "data.loc[data.Top_Priority_Constituency.isin(['Friend']), 'acct_top_const'] = 7\n",
    "data.loc[data.Top_Priority_Constituency.isin(['Fifth Year Program']), 'acct_top_const'] = 6\n",
    "data.loc[data.Top_Priority_Constituency.isin(['Trustee', 'Trustee Emeritus', 'Former Trustee']), 'acct_top_const'] = 5\n",
    "data.loc[data.Top_Priority_Constituency.isin(['Special Mailing List', 'Women\\'s Leadership Council']), 'acct_top_const'] = 4\n",
    "data.loc[data.Top_Priority_Constituency.isin(['Museum Mailing List', 'Potential Student', 'Women\\'s Leadership Tea', 'Host Parent']), 'acct_top_const'] = 3\n",
    "data.loc[data.Top_Priority_Constituency.isin(['Trailhead']), 'acct_top_const'] = 2\n",
    "data.loc[data.Top_Priority_Constituency.isin(['Consortium Visitor', 'Possible Duplicate']), 'acct_top_const'] = 1\n",
    "\n",
    "data = data.drop(['Top_Priority_Constituency'], axis=1)"
   ]
  },
  {
   "cell_type": "code",
   "execution_count": null,
   "metadata": {},
   "outputs": [],
   "source": [
    "# Assign value based on top constituency for contact\n",
    "data['con_top_const'] = 0\n",
    "data.loc[data.Top_Priority_Constituency1.isin(['Alumni-Graduate', 'Non-Person Portfolio', 'Plaque', 'Student Ministries Only Donor']), 'con_top_const'] = 15\n",
    "data.loc[data.Top_Priority_Constituency1.isin(['Alumni-Nongraduate', 'Student']), 'con_top_const'] = 14\n",
    "data.loc[data.Top_Priority_Constituency1.isin(['Current Parent']), 'con_top_const'] = 13\n",
    "data.loc[data.Top_Priority_Constituency1.isin(['Parent']), 'con_top_const'] = 12\n",
    "data.loc[data.Top_Priority_Constituency1.isin(['Grandparent']), 'con_top_const'] = 11\n",
    "data.loc[data.Top_Priority_Constituency1.isin(['Faculty', 'Former Emp Unkown']), 'con_top_const'] = 10\n",
    "data.loc[data.Top_Priority_Constituency1.isin(['Alumni-Nongraduate', 'Student', 'Former Faculty', 'Former Staff', 'Staff', 'Professor']), 'con_top_const'] = 9\n",
    "data.loc[data.Top_Priority_Constituency1.isin(['Professor Emeritus']), 'con_top_const'] = 8\n",
    "data.loc[data.Top_Priority_Constituency1.isin(['Friend']), 'con_top_const'] = 7\n",
    "data.loc[data.Top_Priority_Constituency1.isin(['Fifth Year Program']), 'con_top_const'] = 6\n",
    "data.loc[data.Top_Priority_Constituency1.isin(['Trustee', 'Trustee Emeritus', 'Former Trustee']), 'con_top_const'] = 5\n",
    "data.loc[data.Top_Priority_Constituency1.isin(['Special Mailing List', 'Women\\'s Leadership Council']), 'con_top_const'] = 4\n",
    "data.loc[data.Top_Priority_Constituency1.isin(['Museum Mailing List', 'Potential Student', 'Women\\'s Leadership Tea', 'Host Parent']), 'con_top_const'] = 3\n",
    "data.loc[data.Top_Priority_Constituency1.isin(['Trailhead']), 'acct_top_const'] = 2\n",
    "data.loc[data.Top_Priority_Constituency1.isin(['Consortium Visitor', 'Possible Duplicate']), 'con_top_const'] = 1\n",
    "\n",
    "data = data.drop(['Top_Priority_Constituency1'], axis=1)"
   ]
  },
  {
   "cell_type": "code",
   "execution_count": null,
   "metadata": {},
   "outputs": [],
   "source": [
    "# Assign value based on account stage\n",
    "data['stage'] = 0\n",
    "data.loc[data.Stage1.isin(['Parking Lot', 'Blank Stage']), 'stage'] = -1\n",
    "data.loc[data.Stage1.isin(['Prospecting', 'Auxiliary Portfolio', 'Volunteer Networker']), 'stage'] = 1\n",
    "data.loc[data.Stage1.isin(['Discovery']), 'stage'] = 2\n",
    "data.loc[data.Stage1 == 'Cultivation', 'stage'] = 3\n",
    "data.loc[data.Stage1 == 'Solicitation', 'stage'] = 4\n",
    "data.loc[data.Stage1 == 'Stewardship', 'stage'] = 5\n",
    "\n",
    "data = data.drop(['Stage1'], axis=1)"
   ]
  },
  {
   "cell_type": "code",
   "execution_count": null,
   "metadata": {},
   "outputs": [],
   "source": [
    "# Make home value null if they couldn't find or calculate\n",
    "data.loc[data.Home_Value == str(0), 'Home_Value'] = np.nan\n",
    "data.loc[data.Home_Value_Missing == 'Non SFR', 'Home_Value'] = 0\n",
    "data = data.drop(['Home_Value_Missing'], axis=1)"
   ]
  },
  {
   "cell_type": "code",
   "execution_count": null,
   "metadata": {},
   "outputs": [],
   "source": [
    "# Make capacity low value null if 0\n",
    "data.loc[data.Capacity_Low_Value == str(0), 'Capacity_Low_Value'] = np.nan"
   ]
  },
  {
   "cell_type": "code",
   "execution_count": null,
   "metadata": {},
   "outputs": [],
   "source": [
    "# Make age null if 0\n",
    "data.loc[data.Age == str(0), 'Age'] = np.nan"
   ]
  },
  {
   "cell_type": "code",
   "execution_count": null,
   "metadata": {},
   "outputs": [],
   "source": [
    "# calculate gender mean, capacity low value, and age mean to fill in null values\n",
    "ageSum = 0\n",
    "ageCount = 0\n",
    "genderSum = 0\n",
    "genderCount = 0\n",
    "capacitySum = 0\n",
    "capacityCount = 0\n",
    "homeSum = 0\n",
    "homeCount = 0\n",
    "\n",
    "for row in data.itertuples():\n",
    "    # add number of active communication groups\n",
    "    split = str(row.Active_Communication_Groups).split('\\n')\n",
    "    data.at[row.Index, 'num_active_comm_groups'] = len(split)\n",
    "    \n",
    "    if not pd.isnull(row.Age):\n",
    "        ageSum += int(row.Age)\n",
    "        ageCount += 1\n",
    "    if not pd.isnull(row.Gender):\n",
    "        genderCount += 1\n",
    "        if row.Gender == 'Female':\n",
    "            genderSum += 1\n",
    "    if not pd.isnull(row.Capacity_Low_Value):\n",
    "        capacitySum += int(row.Capacity_Low_Value)\n",
    "        capacityCount += 1\n",
    "    if not pd.isnull(row.Home_Value):\n",
    "        homeSum += int(row.Home_Value)\n",
    "        homeCount += 1\n",
    "        \n",
    "data = data.drop(['Active_Communication_Groups'], axis=1) \n",
    "\n",
    "# Assign 0 if male, 1 if female, mean if null\n",
    "data['gender'] = int(genderSum/genderCount)\n",
    "\n",
    "data.loc[data.Gender == 'Male', 'gender'] = 0 \n",
    "data.loc[data.Gender == 'Female', 'gender'] = 1 \n",
    "\n",
    "data = data.drop(['Gender'], axis=1)\n",
    "\n",
    "# Assign mean age to null ages\n",
    "data.loc[pd.isnull(data.Age), 'Age'] = int(ageSum/ageCount)\n",
    "\n",
    "# Assign mean capacity value to null cells\n",
    "data.loc[pd.isnull(data.Capacity_Low_Value), 'Capacity_Low_Value'] = int(capacitySum/capacityCount)\n",
    "\n",
    "# Assign mean home value to null cells\n",
    "data.loc[pd.isnull(data.Home_Value), 'Home_Value'] = int(homeSum/homeCount)"
   ]
  },
  {
   "cell_type": "code",
   "execution_count": null,
   "metadata": {},
   "outputs": [],
   "source": [
    "# if contact has had a contact report 1, else 0\n",
    "data['had_contact_report'] = np.where(data['First_Contact_Report_Date'].isnull(), 0, 1)\n",
    "data = data.drop(['First_Contact_Report_Date'], axis=1)"
   ]
  },
  {
   "cell_type": "code",
   "execution_count": null,
   "metadata": {},
   "outputs": [],
   "source": [
    "# if in portfolio, 1, else 0\n",
    "data['portfolio_1'] = np.where(data['Primary_Portfolio_Employee_Name'].isnull(), 0, 1)\n",
    "data = data.drop(['Primary_Portfolio_Employee_Name'], axis=1)\n",
    "\n",
    "data['portfolio_2'] = np.where(data['Secondary_Portfolio_Employee_Name'].isnull(), 0, 1)\n",
    "data = data.drop(['Secondary_Portfolio_Employee_Name'], axis=1)\n",
    "\n",
    "data['portfolio_3'] = np.where(data['Tertiary_Portfolio_Employee_Name'].isnull(), 0, 1)\n",
    "data = data.drop(['Tertiary_Portfolio_Employee_Name'], axis=1)"
   ]
  },
  {
   "cell_type": "code",
   "execution_count": null,
   "metadata": {},
   "outputs": [],
   "source": [
    "# if account is in a giving society, 1, else 0\n",
    "data['in_giving_society'] = np.where(data['Giving_Societies'].isnull(), 0, 1)\n",
    "data = data.drop(['Giving_Societies'], axis=1)"
   ]
  },
  {
   "cell_type": "code",
   "execution_count": null,
   "metadata": {},
   "outputs": [],
   "source": [
    "# if contact graduated from westmont, 1, else 0\n",
    "data['westmont_grad'] = np.where(data['Westmont_Education_Status'] == 'Graduated', 1, 0)\n",
    "data = data.drop(['Westmont_Education_Status'], axis=1)"
   ]
  },
  {
   "cell_type": "code",
   "execution_count": null,
   "metadata": {},
   "outputs": [],
   "source": [
    "# add event attendance\n",
    "event_data = pd.read_csv('./event-report.csv', dtype='str')\n",
    "event_data.columns = event_data.columns.str.replace(' ', '_')\n",
    "event_data.columns = event_data.columns.str.replace(':', '')"
   ]
  },
  {
   "cell_type": "code",
   "execution_count": null,
   "metadata": {},
   "outputs": [],
   "source": [
    "event_attendance = {}\n",
    "for contactId in event_data['Contact_Contact_ID'] :\n",
    "    event_attendance[contactId] = 0"
   ]
  },
  {
   "cell_type": "code",
   "execution_count": null,
   "metadata": {},
   "outputs": [],
   "source": [
    "for row in event_data.itertuples():\n",
    "    event_attendance[row.Contact_Contact_ID] += 1"
   ]
  },
  {
   "cell_type": "code",
   "execution_count": null,
   "metadata": {},
   "outputs": [],
   "source": [
    "data['Num_Events_RSVP'] = 0\n",
    "counter = len(event_attendance)\n",
    "for con_id in event_attendance:\n",
    "    print(counter)\n",
    "    data.loc[con_id, 'Num_Events_RSVP'] = event_attendance[con_id]\n",
    "    counter -= 1"
   ]
  },
  {
   "cell_type": "code",
   "execution_count": null,
   "metadata": {},
   "outputs": [],
   "source": [
    "# add interest/activity count\n",
    "ia_data = pd.read_csv('./IA-report.csv', dtype='str')\n",
    "ia_data.columns = ia_data.columns.str.replace(' ', '_')\n",
    "ia_data.columns = ia_data.columns.str.replace(':', '')"
   ]
  },
  {
   "cell_type": "code",
   "execution_count": null,
   "metadata": {},
   "outputs": [],
   "source": [
    "ia = {}\n",
    "for contactId in ia_data['Contact_Contact_ID'] :\n",
    "    ia[contactId] = {'total':0, 'current':0}"
   ]
  },
  {
   "cell_type": "code",
   "execution_count": null,
   "metadata": {},
   "outputs": [],
   "source": [
    "for row in ia_data.itertuples():\n",
    "    if(pd.isnull(row.End_Date)):\n",
    "        ia[row.Contact_Contact_ID]['total'] += 1\n",
    "        ia[row.Contact_Contact_ID]['current'] += 1\n",
    "        \n",
    "    else:\n",
    "        IA_end = dt.strptime(str(row.End_Date), '%m/%d/%Y')\n",
    "        ia[row.Contact_Contact_ID]['total'] += 1\n",
    "        if(IA_end < FY_end):\n",
    "            ia[row.Contact_Contact_ID]['current'] += 1"
   ]
  },
  {
   "cell_type": "code",
   "execution_count": null,
   "metadata": {},
   "outputs": [],
   "source": [
    "data['Num_Total_IA'] = 0\n",
    "data['Num_Current_IA'] = 0"
   ]
  },
  {
   "cell_type": "code",
   "execution_count": null,
   "metadata": {},
   "outputs": [],
   "source": [
    "counter = len(ia)\n",
    "for con_id in ia:\n",
    "    print(counter)\n",
    "    data.loc[con_id, 'Num_Total_IA'] = ia[con_id]['total']\n",
    "    data.loc[con_id, 'Num_Current_IA'] = ia[con_id]['current']\n",
    "    counter -= 1"
   ]
  },
  {
   "cell_type": "code",
   "execution_count": null,
   "metadata": {},
   "outputs": [],
   "source": [
    "# add board/council count\n",
    "bc_data = pd.read_csv('./BC-report.csv', dtype='str')\n",
    "bc_data.columns = bc_data.columns.str.replace(' ', '_')\n",
    "bc_data.columns = bc_data.columns.str.replace(':', '')"
   ]
  },
  {
   "cell_type": "code",
   "execution_count": null,
   "metadata": {},
   "outputs": [],
   "source": [
    "bc = {}\n",
    "for contactId in bc_data['Contact_Contact_ID'] :\n",
    "    bc[contactId] = {'total':0, 'current':0}\n",
    "\n",
    "for row in bc_data.itertuples():\n",
    "    if(pd.isnull(row.End_Date)):\n",
    "        bc[row.Contact_Contact_ID]['total'] += 1\n",
    "        bc[row.Contact_Contact_ID]['current'] += 1\n",
    "        \n",
    "    else:\n",
    "        BC_end = dt.strptime(str(row.End_Date), '%m/%d/%Y')\n",
    "        bc[row.Contact_Contact_ID]['total'] += 1\n",
    "        if(BC_end < FY_end):\n",
    "            bc[row.Contact_Contact_ID]['current'] += 1"
   ]
  },
  {
   "cell_type": "code",
   "execution_count": null,
   "metadata": {},
   "outputs": [],
   "source": [
    "data['Num_Total_BC'] = 0\n",
    "data['Num_Current_BC'] = 0"
   ]
  },
  {
   "cell_type": "code",
   "execution_count": null,
   "metadata": {},
   "outputs": [],
   "source": [
    "counter = len(bc)\n",
    "for con_id in bc:\n",
    "    print(counter)\n",
    "    data.loc[con_id, 'Num_Total_BC'] = bc[con_id]['total']\n",
    "    data.loc[con_id, 'Num_Current_BC'] = bc[con_id]['current']\n",
    "    counter -= 1"
   ]
  },
  {
   "cell_type": "code",
   "execution_count": null,
   "metadata": {},
   "outputs": [],
   "source": [
    "data.to_csv('clean-report.csv', index=False)"
   ]
  }
 ],
 "metadata": {
  "kernelspec": {
   "display_name": "Python 3",
   "language": "python",
   "name": "python3"
  },
  "language_info": {
   "codemirror_mode": {
    "name": "ipython",
    "version": 3
   },
   "file_extension": ".py",
   "mimetype": "text/x-python",
   "name": "python",
   "nbconvert_exporter": "python",
   "pygments_lexer": "ipython3",
   "version": "3.6.3"
  }
 },
 "nbformat": 4,
 "nbformat_minor": 2
}
