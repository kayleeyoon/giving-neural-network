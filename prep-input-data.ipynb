{
 "cells": [
  {
   "cell_type": "code",
   "execution_count": null,
   "metadata": {},
   "outputs": [],
   "source": [
    "import pandas as pd\n",
    "import numpy as np\n",
    "from datetime import datetime as dt\n",
    "from dateutil.relativedelta import relativedelta\n",
    "\n",
    "predictingFY = 18\n",
    "FY_end = dt.strptime('05/31/2017', '%m/%d/%Y')\n",
    "pd.set_option('display.max_columns', None) "
   ]
  },
  {
   "cell_type": "code",
   "execution_count": null,
   "metadata": {},
   "outputs": [],
   "source": [
    "data = pd.read_csv('./data/main-report.csv', dtype='str')\n",
    "data.columns = data.columns.str.replace(' ', '_')\n",
    "data.columns = data.columns.str.replace(':', '')\n",
    "data.columns = data.columns.str.replace('.', '')\n",
    "data.columns = data.columns.str.replace('?', '')"
   ]
  },
  {
   "cell_type": "code",
   "execution_count": null,
   "metadata": {},
   "outputs": [],
   "source": [
    "# create map to store contact giving information\n",
    "con_giving = {}\n",
    "for contactId in data['Contact_ID'] :\n",
    "    con_giving[contactId] = {'Largest_Gift':0, 'Num_Gifts_LFY':0, 'Num_Gifts_2FY':0, 'Num_Gifts_3FY':0, 'Num_Gifts_Past_3_FY':0,\n",
    "                             'Num_Gifts':0, 'FY_Given':set(), 'FY_Given_in_Past_3_Years':set(), 'Balance_Expected_NFY':0, 'All_Giving': 0, \n",
    "                             'Giving_Amt_Past_3_FY':0, 'Avg_Gift_Amount_in_Past_3_Years':0}"
   ]
  },
  {
   "cell_type": "code",
   "execution_count": null,
   "metadata": {},
   "outputs": [],
   "source": [
    "# go through each row to summarize contact information\n",
    "for row in data.itertuples():\n",
    "    if not pd.isnull(row.Fiscal_Year):\n",
    "        rowFY = int(row.Fiscal_Year[-2:])\n",
    "        if rowFY != predictingFY and rowFY != predictingFY + 1 :\n",
    "            if (pd.isnull(row.Stage) or row.Stage == 'Completed') and row.Record_Type not in ('Split Gift', 'Pledge', 'Intention', 'Pledge Canceled Value'):  \n",
    "                con_giving[row.Contact_ID]['FY_Given'].add(rowFY)\n",
    "                if rowFY < predictingFY and rowFY > predictingFY - 4:\n",
    "                    con_giving[row.Contact_ID]['FY_Given_in_Past_3_Years'].add(rowFY)\n",
    "                con_giving[row.Contact_ID]['Num_Gifts'] += 1\n",
    "                gift_amount = float(row.Analytics_Amount)\n",
    "\n",
    "                if con_giving[row.Contact_ID]['Largest_Gift'] < float(row.Analytics_Amount):\n",
    "                    con_giving[row.Contact_ID]['Largest_Gift'] = float(row.Analytics_Amount)\n",
    "                if rowFY == (predictingFY - 1):  \n",
    "                    con_giving[row.Contact_ID]['Num_Gifts_LFY'] += 1\n",
    "                    con_giving[row.Contact_ID]['Num_Gifts_Past_3_FY'] += 1\n",
    "                    con_giving[row.Contact_ID]['Giving_Amt_Past_3_FY'] += gift_amount\n",
    "                elif rowFY == (predictingFY - 2):  \n",
    "                    con_giving[row.Contact_ID]['Num_Gifts_2FY'] += 1\n",
    "                    con_giving[row.Contact_ID]['Num_Gifts_Past_3_FY'] += 1\n",
    "                    con_giving[row.Contact_ID]['Giving_Amt_Past_3_FY'] += gift_amount\n",
    "                elif rowFY == (predictingFY - 3):  \n",
    "                    con_giving[row.Contact_ID]['Num_Gifts_3FY'] += 1\n",
    "                    con_giving[row.Contact_ID]['Num_Gifts_Past_3_FY'] += 1\n",
    "                    con_giving[row.Contact_ID]['Giving_Amt_Past_3_FY'] += gift_amount\n",
    "\n",
    "                con_giving[row.Contact_ID]['All_Giving'] += gift_amount\n",
    "\n",
    "        elif rowFY == predictingFY: \n",
    "            if row.Record_Type in ('Payment', 'Intention'):\n",
    "                con_giving[row.Contact_ID]['Balance_Expected_NFY'] += gift_amount"
   ]
  },
  {
   "cell_type": "code",
   "execution_count": null,
   "metadata": {},
   "outputs": [],
   "source": [
    "# now that I'm done using giving data, we can get rid of all duplicate contact Id rows and giving info\n",
    "data = data.drop_duplicates('Contact_ID', keep=\"first\")\n",
    "data = data.drop(['Analytics_Amount', 'Campaign_Code', 'Proposal_Opportunity_Name', \n",
    "                  'Record_Type', 'Stage', 'Type', 'Fiscal_Year', 'Giving_ID'], axis=1)"
   ]
  },
  {
   "cell_type": "code",
   "execution_count": null,
   "metadata": {},
   "outputs": [],
   "source": [
    "data['New_Donor'] = 0\n",
    "counter = len(data)\n",
    "for row in data.itertuples():\n",
    "    rowIndex = row.Index\n",
    "    con_id = row.Contact_ID\n",
    "    num_gifts_past_3_years = con_giving[con_id]['Num_Gifts_Past_3_FY']\n",
    "    data.at[rowIndex, 'Largest_Gift'] = con_giving[con_id]['Largest_Gift']\n",
    "    data.at[rowIndex, 'FY_Given_in_Past_3_Years'] = len(con_giving[con_id]['FY_Given_in_Past_3_Years'])\n",
    "    data.at[rowIndex, 'Num_Gifts_LFY'] = con_giving[con_id]['Num_Gifts_LFY']\n",
    "    data.at[rowIndex, 'Num_Gifts_2FY'] = con_giving[con_id]['Num_Gifts_2FY']\n",
    "    data.at[rowIndex, 'Num_Gifts_3FY'] = con_giving[con_id]['Num_Gifts_3FY']\n",
    "    num_gifts = con_giving[con_id]['Num_Gifts']\n",
    "    data.at[rowIndex, 'Num_Gifts'] = num_gifts\n",
    "    data.at[rowIndex, 'Balance_Expected_NFY'] = con_giving[con_id]['Balance_Expected_NFY']\n",
    "    all_giving = float(con_giving[con_id]['All_Giving'])\n",
    "    if num_gifts != 0:\n",
    "        data.at[rowIndex, 'Avg_Gift_Amount'] = all_giving/num_gifts\n",
    "        data.at[rowIndex, 'Avg_Gifts_Per_Year'] = num_gifts/len(con_giving[con_id]['FY_Given'])\n",
    "        data.at[rowIndex, 'Num_Gifts_Past_3_Years'] = num_gifts_past_3_years\n",
    "        if num_gifts_past_3_years != 0:\n",
    "            giving_amt_past_3_years = con_giving[row.Contact_ID]['Giving_Amt_Past_3_FY']\n",
    "            data.at[rowIndex, 'Giving_Amt_Past_3_FY'] = giving_amt_past_3_years\n",
    "            data.at[rowIndex, 'Avg_Gift_Amount_in_Past_3_Years'] = giving_amt_past_3_years/num_gifts_past_3_years\n",
    "    if pd.notnull(row.First_Gift_Date):\n",
    "        first_gift_date = dt.strptime(str(row.First_Gift_Date), '%m/%d/%Y')\n",
    "        if first_gift_date < FY_end:\n",
    "            days_since = (FY_end - first_gift_date).days\n",
    "            if days_since <= 365:\n",
    "                data.at[rowIndex, 'New_Donor'] = 1      \n",
    "                \n",
    "    counter -= 1\n",
    "    print(counter)\n",
    "data = data.drop(['First_Gift_Date'], axis=1)"
   ]
  },
  {
   "cell_type": "code",
   "execution_count": null,
   "metadata": {},
   "outputs": [],
   "source": [
    "# drop row if the donor is inactive (hasn't given in the past 3 years)\n",
    "#data = data.drop(data[data.Num_Gifts_Past_3_Years == 0].index)\n",
    "#data = data.drop(data[pd.isnull(data.Num_Gifts_Past_3_Years)].index)\n",
    "data.fillna(0)"
   ]
  },
  {
   "cell_type": "code",
   "execution_count": null,
   "metadata": {},
   "outputs": [],
   "source": [
    "# Assign value 0-3 based on prospect priority\n",
    "data['prospect_priority'] = 0\n",
    "data.loc[data.Prospect_Priority == 'top', 'prospect_priority'] = 3 \n",
    "data.loc[data.Prospect_Priority == 'mid', 'prospect_priority'] = 2 \n",
    "data.loc[data.Prospect_Priority == 'low', 'prospect_priority'] = 1 \n",
    "\n",
    "data = data.drop(['Prospect_Priority'], axis=1)"
   ]
  },
  {
   "cell_type": "code",
   "execution_count": null,
   "metadata": {},
   "outputs": [],
   "source": [
    "# Assign value based on top constituency for account\n",
    "data['acct_top_const'] = 0\n",
    "data.loc[data.Top_Priority_Constituency.isin(['Trustee', 'Trustee Emeritus', 'Former Trustee']), 'acct_top_const'] = 11\n",
    "data.loc[data.Top_Priority_Constituency.isin(['Alumni-Graduate', 'Non-Person Portfolio', 'Plaque']), 'acct_top_const'] = 10\n",
    "data.loc[data.Top_Priority_Constituency.isin(['Alumni-Nongraduate']), 'acct_top_const'] = 9\n",
    "data.loc[data.Top_Priority_Constituency.isin(['Current Parent']), 'acct_top_const'] = 8\n",
    "data.loc[data.Top_Priority_Constituency.isin(['Parent']), 'acct_top_const'] = 7\n",
    "data.loc[data.Top_Priority_Constituency.isin(['Grandparent']), 'acct_top_const'] = 6\n",
    "data.loc[data.Top_Priority_Constituency.isin(['Faculty', 'Former Emp Unkown', 'Former Faculty', 'Former Staff', 'Staff', 'Professor']), 'acct_top_const'] = 5\n",
    "data.loc[data.Top_Priority_Constituency.isin(['Professor Emeritus']), 'acct_top_const'] = 4\n",
    "data.loc[data.Top_Priority_Constituency.isin(['Friend', 'Student']), 'acct_top_const'] = 3\n",
    "data.loc[data.Top_Priority_Constituency.isin(['Fifth Year Program']), 'acct_top_const'] = 2\n",
    "data.loc[data.Top_Priority_Constituency.isin(['Special Mailing List', 'Women\\'s Leadership Council']), 'acct_top_const'] = 1\n",
    "\n",
    "data = data.drop(['Top_Priority_Constituency'], axis=1)"
   ]
  },
  {
   "cell_type": "code",
   "execution_count": null,
   "metadata": {},
   "outputs": [],
   "source": [
    "# Assign value based on top constituency for account\n",
    "data['con_top_const'] = 0\n",
    "data.loc[data.Top_Priority_Constituency1.isin(['Trustee', 'Trustee Emeritus', 'Former Trustee']), 'con_top_const'] = 11\n",
    "data.loc[data.Top_Priority_Constituency1.isin(['Alumni-Graduate', 'Non-Person Portfolio', 'Plaque']), 'con_top_const'] = 10\n",
    "data.loc[data.Top_Priority_Constituency1.isin(['Alumni-Nongraduate']), 'con_top_const'] = 9\n",
    "data.loc[data.Top_Priority_Constituency1.isin(['Current Parent']), 'con_top_const'] = 8\n",
    "data.loc[data.Top_Priority_Constituency1.isin(['Parent']), 'con_top_const'] = 7\n",
    "data.loc[data.Top_Priority_Constituency1.isin(['Grandparent']), 'con_top_const'] = 6\n",
    "data.loc[data.Top_Priority_Constituency1.isin(['Faculty', 'Former Emp Unkown', 'Former Faculty', 'Former Staff', 'Staff', 'Professor']), 'con_top_const'] = 5\n",
    "data.loc[data.Top_Priority_Constituency1.isin(['Professor Emeritus']), 'con_top_const'] = 4\n",
    "data.loc[data.Top_Priority_Constituency1.isin(['Friend', 'Student']), 'con_top_const'] = 3\n",
    "data.loc[data.Top_Priority_Constituency1.isin(['Fifth Year Program']), 'con_top_const'] = 2\n",
    "data.loc[data.Top_Priority_Constituency1.isin(['Special Mailing List', 'Women\\'s Leadership Council']), 'con_top_const'] = 1\n",
    "\n",
    "data = data.drop(['Top_Priority_Constituency1'], axis=1)"
   ]
  },
  {
   "cell_type": "code",
   "execution_count": null,
   "metadata": {},
   "outputs": [],
   "source": [
    "# Assign value based on account stage\n",
    "data['stage'] = 0\n",
    "data.loc[data.Stage1.isin(['Parking Lot', 'Blank Stage']), 'stage'] = -1\n",
    "data.loc[data.Stage1.isin(['Prospecting', 'Auxiliary Portfolio', 'Volunteer Networker']), 'stage'] = 1\n",
    "data.loc[data.Stage1.isin(['Discovery']), 'stage'] = 2\n",
    "data.loc[data.Stage1 == 'Cultivation', 'stage'] = 3\n",
    "data.loc[data.Stage1 == 'Solicitation', 'stage'] = 4\n",
    "data.loc[data.Stage1 == 'Stewardship', 'stage'] = 5\n",
    "\n",
    "data = data.drop(['Stage1'], axis=1)"
   ]
  },
  {
   "cell_type": "code",
   "execution_count": null,
   "metadata": {},
   "outputs": [],
   "source": [
    "# Assign value based on marital status\n",
    "data['married'] = 0\n",
    "data.loc[data.Marital_Status == 'Married', 'stage'] = 1\n",
    "data.loc[data.Marital_Status == 'Widowed', 'stage'] = 2\n",
    "data = data.drop(['Marital_Status'], axis=1)"
   ]
  },
  {
   "cell_type": "code",
   "execution_count": null,
   "metadata": {},
   "outputs": [],
   "source": [
    "# Make home value null if they couldn't find or calculate\n",
    "data.loc[data.Home_Value == str(0), 'Home_Value'] = np.nan\n",
    "data.loc[data.Home_Value_Missing == 'Non SFR', 'Home_Value'] = 0\n",
    "data = data.drop(['Home_Value_Missing'], axis=1)"
   ]
  },
  {
   "cell_type": "code",
   "execution_count": null,
   "metadata": {},
   "outputs": [],
   "source": [
    "# Make capacity low value null if 0\n",
    "data.loc[data.Capacity_Low_Value == str(0), 'Capacity_Low_Value'] = np.nan"
   ]
  },
  {
   "cell_type": "code",
   "execution_count": null,
   "metadata": {},
   "outputs": [],
   "source": [
    "# Make age null if 0\n",
    "data.loc[data.Age == str(0), 'Age'] = np.nan"
   ]
  },
  {
   "cell_type": "code",
   "execution_count": null,
   "metadata": {},
   "outputs": [],
   "source": [
    "# calculate means of gender, capacity low value, and age to fill in null values\n",
    "ageSum = 0\n",
    "ageCount = 0\n",
    "genderSum = 0\n",
    "genderCount = 0\n",
    "capacitySum = 0\n",
    "capacityCount = 0\n",
    "homeSum = 0\n",
    "homeCount = 0\n",
    "\n",
    "data['target_output'] = ''\n",
    "\n",
    "for row in data.itertuples():\n",
    "    \n",
    "    # make target output column\n",
    "    i = row.Index\n",
    "    amt = float(row.LFY_Giving)\n",
    "    output_list = [0] * 12\n",
    "    if amt >= 1000000.:\n",
    "        output_list[11] = 1\n",
    "    elif amt >= 500000.:\n",
    "        output_list[10] = 1\n",
    "    elif amt >= 250000.:\n",
    "        output_list[9] = 1\n",
    "    elif amt >= 100000.:\n",
    "        output_list[8] = 1\n",
    "    elif amt >= 50000.:\n",
    "        output_list[7] = 1\n",
    "    elif amt >= 25000.:\n",
    "        output_list[6] = 1\n",
    "    elif amt >= 10000.:\n",
    "        output_list[5] = 1\n",
    "    elif amt >= 5000.:\n",
    "        output_list[4] = 1\n",
    "    elif amt >= 2500.:\n",
    "        output_list[3] = 1\n",
    "    elif amt >= 1000.:\n",
    "        output_list[2] = 1\n",
    "    elif amt >= 200.:\n",
    "        output_list[1] = 1\n",
    "    else:\n",
    "        output_list[0] = 1\n",
    "        \n",
    "    data.at[i, 'target_output'] = output_list\n",
    "    \n",
    "    # add number of active communication groups\n",
    "    split = str(row.Active_Communication_Groups).split('\\n')\n",
    "    data.at[row.Index, 'num_active_comm_groups'] = len(split)\n",
    "    \n",
    "    if not pd.isnull(row.Age):\n",
    "        ageSum += int(row.Age)\n",
    "        ageCount += 1\n",
    "    if not pd.isnull(row.Gender):\n",
    "        genderCount += 1\n",
    "        if row.Gender == 'Female':\n",
    "            genderSum += 1\n",
    "    if not pd.isnull(row.Capacity_Low_Value):\n",
    "        capacitySum += int(row.Capacity_Low_Value)\n",
    "        capacityCount += 1\n",
    "    if not pd.isnull(row.Home_Value):\n",
    "        homeSum += int(row.Home_Value)\n",
    "        homeCount += 1\n",
    "        \n",
    "data = data.drop(['Active_Communication_Groups', 'LFY_Giving'], axis=1) \n",
    "\n",
    "# Assign 0 if male, 1 if female, mean if null\n",
    "data['gender'] = int(genderSum/genderCount)\n",
    "\n",
    "data.loc[data.Gender == 'Male', 'gender'] = 0 \n",
    "data.loc[data.Gender == 'Female', 'gender'] = 1 \n",
    "\n",
    "data = data.drop(['Gender'], axis=1)\n",
    "\n",
    "# Assign mean age to null ages\n",
    "data.loc[pd.isnull(data.Age), 'Age'] = int(ageSum/ageCount)\n",
    "\n",
    "# Assign mean capacity value to null cells\n",
    "data.loc[pd.isnull(data.Capacity_Low_Value), 'Capacity_Low_Value'] = int(capacitySum/capacityCount)\n",
    "\n",
    "# Assign mean home value to null cells\n",
    "data.loc[pd.isnull(data.Home_Value), 'Home_Value'] = int(homeSum/homeCount)"
   ]
  },
  {
   "cell_type": "code",
   "execution_count": null,
   "metadata": {},
   "outputs": [],
   "source": [
    "# if contact has had a contact report 1, else 0\n",
    "data['had_contact_report'] = np.where(data['First_Contact_Report_Date'].isnull(), 0, 1)\n",
    "data = data.drop(['First_Contact_Report_Date'], axis=1)"
   ]
  },
  {
   "cell_type": "code",
   "execution_count": null,
   "metadata": {},
   "outputs": [],
   "source": [
    "# if in portfolio, 1, else 0\n",
    "data['portfolio_1'] = np.where(data['Primary_Portfolio_Employee_Name'].isnull(), 0, 1)\n",
    "data = data.drop(['Primary_Portfolio_Employee_Name'], axis=1)\n",
    "\n",
    "data['portfolio_2'] = np.where(data['Secondary_Portfolio_Employee_Name'].isnull(), 0, 1)\n",
    "data = data.drop(['Secondary_Portfolio_Employee_Name'], axis=1)\n",
    "\n",
    "data['portfolio_3'] = np.where(data['Tertiary_Portfolio_Employee_Name'].isnull(), 0, 1)\n",
    "data = data.drop(['Tertiary_Portfolio_Employee_Name'], axis=1)"
   ]
  },
  {
   "cell_type": "code",
   "execution_count": null,
   "metadata": {},
   "outputs": [],
   "source": [
    "# if account is in a giving society, 1, else 0\n",
    "data['in_giving_society'] = np.where(data['Giving_Societies'].isnull(), 0, 1)\n",
    "data = data.drop(['Giving_Societies'], axis=1)"
   ]
  },
  {
   "cell_type": "code",
   "execution_count": null,
   "metadata": {},
   "outputs": [],
   "source": [
    "# if contact graduated from westmont, 1, else 0\n",
    "data['westmont_grad'] = np.where(data['Westmont_Education_Status'] == 'Graduated', 1, 0)\n",
    "data = data.drop(['Westmont_Education_Status'], axis=1)"
   ]
  },
  {
   "cell_type": "code",
   "execution_count": null,
   "metadata": {},
   "outputs": [],
   "source": [
    "# add event attendance\n",
    "event_data = pd.read_csv('./data/event-report.csv', dtype='str')\n",
    "event_data.columns = event_data.columns.str.replace(' ', '_')\n",
    "event_data.columns = event_data.columns.str.replace(':', '')"
   ]
  },
  {
   "cell_type": "code",
   "execution_count": null,
   "metadata": {},
   "outputs": [],
   "source": [
    "event_attendance = {}\n",
    "for contactId in data['Contact_ID'] :\n",
    "    event_attendance[contactId] = 0"
   ]
  },
  {
   "cell_type": "code",
   "execution_count": null,
   "metadata": {},
   "outputs": [],
   "source": [
    "for row in event_data.itertuples():\n",
    "    con_id = row.Contact_Contact_ID\n",
    "    if con_id in event_attendance:\n",
    "        event_attendance[row.Contact_Contact_ID] += 1"
   ]
  },
  {
   "cell_type": "code",
   "execution_count": null,
   "metadata": {},
   "outputs": [],
   "source": [
    "# add interest/activity count\n",
    "ia_data = pd.read_csv('./data/IA-report.csv', dtype='str')\n",
    "ia_data.columns = ia_data.columns.str.replace(' ', '_')\n",
    "ia_data.columns = ia_data.columns.str.replace(':', '')"
   ]
  },
  {
   "cell_type": "code",
   "execution_count": null,
   "metadata": {},
   "outputs": [],
   "source": [
    "ia = {}\n",
    "for contactId in data['Contact_ID'] :\n",
    "    ia[contactId] = {'total':0, 'current':0}"
   ]
  },
  {
   "cell_type": "code",
   "execution_count": null,
   "metadata": {},
   "outputs": [],
   "source": [
    "for row in ia_data.itertuples():\n",
    "    con_id = row.Contact_Contact_ID\n",
    "    if con_id in ia:\n",
    "        if(pd.isnull(row.End_Date)):\n",
    "            ia[row.Contact_Contact_ID]['total'] += 1\n",
    "            ia[row.Contact_Contact_ID]['current'] += 1\n",
    "\n",
    "        else:\n",
    "            IA_end = dt.strptime(str(row.End_Date), '%m/%d/%Y')\n",
    "            ia[row.Contact_Contact_ID]['total'] += 1\n",
    "            if(IA_end < FY_end):\n",
    "                ia[row.Contact_Contact_ID]['current'] += 1"
   ]
  },
  {
   "cell_type": "code",
   "execution_count": null,
   "metadata": {},
   "outputs": [],
   "source": [
    "# add board/council count\n",
    "bc_data = pd.read_csv('./data/BC-report.csv', dtype='str')\n",
    "bc_data.columns = bc_data.columns.str.replace(' ', '_')\n",
    "bc_data.columns = bc_data.columns.str.replace(':', '')"
   ]
  },
  {
   "cell_type": "code",
   "execution_count": null,
   "metadata": {},
   "outputs": [],
   "source": [
    "bc = {}\n",
    "for contactId in data['Contact_ID'] :\n",
    "    bc[contactId] = {'total':0, 'current':0}\n",
    "\n",
    "for row in bc_data.itertuples():\n",
    "    con_id = row.Contact_Contact_ID\n",
    "    if con_id in bc:\n",
    "        if(pd.isnull(row.End_Date)):\n",
    "            bc[row.Contact_Contact_ID]['total'] += 1\n",
    "            bc[row.Contact_Contact_ID]['current'] += 1\n",
    "\n",
    "        else:\n",
    "            BC_end = dt.strptime(str(row.End_Date), '%m/%d/%Y')\n",
    "            bc[row.Contact_Contact_ID]['total'] += 1\n",
    "            if(BC_end < FY_end):\n",
    "                bc[row.Contact_Contact_ID]['current'] += 1"
   ]
  },
  {
   "cell_type": "code",
   "execution_count": null,
   "metadata": {},
   "outputs": [],
   "source": [
    "# add contact report information\n",
    "cr_data = pd.read_csv('./data/CR-report.csv', dtype='str')\n",
    "cr_data.columns = cr_data.columns.str.replace(' ', '_')\n",
    "cr_data.columns = cr_data.columns.str.replace(':', '')\n",
    "cr_data.columns = cr_data.columns.str.replace('?', '')\n",
    "\n",
    "cr_data = cr_data.drop(cr_data[cr_data['Contact_Purpose'].isin(['No Solicit Verification', 'Removal Verification', 'Demographic Update', 'Alumni Survey', 'Student Ambsdr Interview'])].index)"
   ]
  },
  {
   "cell_type": "code",
   "execution_count": null,
   "metadata": {},
   "outputs": [],
   "source": [
    "# cr data will focus on the 3 years prior to the predicting year\n",
    "cr = {}\n",
    "for acctId in data['Account_ID'] :\n",
    "    cr[acctId] = {'total':0, 'total_significant':0, 'total_in_past_year':0, 'significant_in_past_year':0,\n",
    "                 'total_in_person':0}\n",
    "\n",
    "for row in cr_data.itertuples():\n",
    "    acctId = row.Account_Case_Safe_ID[0:15]\n",
    "    if acctId in cr:\n",
    "        cr_date = dt.strptime(str(row.Contact_Date), '%m/%d/%Y')\n",
    "        if cr_date <= FY_end and cr_date >= (FY_end - relativedelta(years=3)):\n",
    "            cr[acctId]['total'] += 1\n",
    "            if cr_date >= (FY_end - relativedelta(years=1)):\n",
    "                cr[acctId]['total_in_past_year'] += 1\n",
    "                if row.Significant == 1:\n",
    "                    cr[acctId]['significant_in_past_year'] += 1\n",
    "                    cr[acctId]['total_significant'] += 1\n",
    "            elif row.Significant == 1:\n",
    "                    cr[acctId]['total_significant'] += 1\n",
    "            if row.Contact_Type == 'In Person':\n",
    "                cr[acctId]['total_in_person'] += 1"
   ]
  },
  {
   "cell_type": "code",
   "execution_count": null,
   "metadata": {},
   "outputs": [],
   "source": [
    "# put contact report, event, IA, and BC data into the dataframe\n",
    "counter = len(data)\n",
    "for row in data.itertuples():\n",
    "    rowIndex = row.Index\n",
    "    con_id = row.Contact_ID\n",
    "    acct_id = row.Account_ID\n",
    "    data.at[rowIndex, 'Num_Events_RSVP'] = event_attendance[con_id]\n",
    "    data.at[rowIndex, 'Num_Total_IA'] = ia[con_id]['total']\n",
    "    data.at[rowIndex, 'Num_Current_IA'] = ia[con_id]['current']\n",
    "    data.at[rowIndex, 'Num_Total_BC'] = bc[con_id]['total']\n",
    "    data.at[rowIndex, 'Num_Current_BC'] = bc[con_id]['current']\n",
    "    data.at[rowIndex, 'Total_CR'] = cr[acct_id]['total']\n",
    "    data.at[rowIndex, 'Total_Sig_CR'] = cr[acct_id]['total_significant']\n",
    "    data.at[rowIndex, 'Total_CR_in_past_year'] = cr[acct_id]['total_in_past_year']\n",
    "    data.at[rowIndex, 'Sig_in_past_year'] = cr[acct_id]['significant_in_past_year']\n",
    "    data.at[rowIndex, 'In_person_CR'] = cr[acct_id]['total_in_person']\n",
    "    counter -= 1"
   ]
  },
  {
   "cell_type": "code",
   "execution_count": null,
   "metadata": {},
   "outputs": [],
   "source": [
    "data = data.drop(['Account_ID'], axis=1) \n",
    "data.to_csv('./data/clean-data.csv', index=False)"
   ]
  },
  {
   "cell_type": "code",
   "execution_count": null,
   "metadata": {},
   "outputs": [],
   "source": []
  }
 ],
 "metadata": {
  "kernelspec": {
   "display_name": "Python 3",
   "language": "python",
   "name": "python3"
  },
  "language_info": {
   "codemirror_mode": {
    "name": "ipython",
    "version": 3
   },
   "file_extension": ".py",
   "mimetype": "text/x-python",
   "name": "python",
   "nbconvert_exporter": "python",
   "pygments_lexer": "ipython3",
   "version": "3.7.4"
  }
 },
 "nbformat": 4,
 "nbformat_minor": 2
}
