{
 "cells": [
  {
   "cell_type": "code",
   "execution_count": 1,
   "metadata": {},
   "outputs": [],
   "source": [
    "import numpy as np\n",
    "import pandas as pd\n",
    "import matplotlib.pyplot as plt\n",
    "from sklearn import preprocessing\n",
    "from sklearn.metrics import log_loss\n",
    "import ast\n",
    "\n",
    "# gets rid of scientific notation\n",
    "np.set_printoptions(suppress=True)\n",
    "pd.set_option('display.float_format', '{:.2f}'.format)\n",
    "\n",
    "# shows all columns \n",
    "pd.set_option('display.max_columns', None) "
   ]
  },
  {
   "cell_type": "code",
   "execution_count": 2,
   "metadata": {},
   "outputs": [],
   "source": [
    "learning_rate = .00001"
   ]
  },
  {
   "cell_type": "code",
   "execution_count": 3,
   "metadata": {},
   "outputs": [],
   "source": [
    "## Define activation functions\n",
    "# softmax activation function\n",
    "def softmax(x):\n",
    "    expx = np.exp(x - np.max(x))\n",
    "    return expx/np.sum(expx, axis=1, keepdims=True)\n",
    "\n",
    "# sigmoid activation function\n",
    "def sigmoid(x):\n",
    "    return 1 / (1 + np.exp(-x))\n",
    "\n",
    "# derivative of sigmoid activation function\n",
    "def dsigmoid(x):\n",
    "    return x * (1 - x)"
   ]
  },
  {
   "cell_type": "code",
   "execution_count": 4,
   "metadata": {},
   "outputs": [],
   "source": [
    "wrong_list = []\n",
    "def classification_accuracy(targets, predictions):\n",
    "    global wrong_list\n",
    "    wrong_list = []\n",
    "    total = len(predictions)\n",
    "    correct = 0\n",
    "    for i in range(total):\n",
    "        predicted_class = np.argmax(predictions[i])\n",
    "        if targets[i][predicted_class] == 1:\n",
    "           correct += 1\n",
    "        else:\n",
    "            wrong_list.append([i, np.argmax(targets[i]), predicted_class])\n",
    "    return correct/total"
   ]
  },
  {
   "cell_type": "code",
   "execution_count": 5,
   "metadata": {},
   "outputs": [
    {
     "name": "stderr",
     "output_type": "stream",
     "text": [
      "/Library/Frameworks/Python.framework/Versions/3.6/lib/python3.6/site-packages/sklearn/preprocessing/data.py:2798: RuntimeWarning: divide by zero encountered in log\n",
      "  loglike = -n_samples / 2 * np.log(x_trans.var())\n"
     ]
    }
   ],
   "source": [
    "donordata = pd.read_csv('./data/clean-data.csv', index_col=None)\n",
    "donordata[['Capacity_Low_Value', 'Home_Value', 'Mail_Solicitable',\n",
    "       'Monthly_Givers', 'OGP_Prospects', '2FY_Athletics',\n",
    "       '2FY_Giving', '2FY_Museum', '2FY_Music', '2FY_Music_Patron',\n",
    "       '2FY_Westmont_Fund', '3FY_Athletics', '3FY_Giving', '3FY_Museum',\n",
    "       '3FY_Music', '3FY_Music_Patron', '3FY_Westmont_Fund', '4FY_Athletics',\n",
    "       '4FY_Giving', '4FY_Museum', '4FY_Music', '4FY_Music_Patron',\n",
    "       '4FY_Westmont_Fund', 'Age', 'Current_Parent', 'Emailable',\n",
    "       'Email_Opt_Out', 'Email_Solicitable', 'Trustee', 'WES_Member',\n",
    "       'Westmont_Foundation_Member', 'No_Children', 'No-Need_Parent',\n",
    "       'Not_Campaign', 'Westmont_Foundation_Account',\n",
    "       'Board_of_Advisors_Membership', 'Is_Email_Bounced',\n",
    "       'Account_Strength_for_Today_Donor', 'New_Donor', 'Largest_Gift',\n",
    "       'FY_Given_in_Past_3_Years', 'Num_Gifts_LFY', 'Num_Gifts_2FY',\n",
    "       'Num_Gifts_3FY', 'Num_Gifts', 'Balance_Expected_NFY', 'Avg_Gift_Amount',\n",
    "       'Avg_Gifts_Per_Year', 'Num_Gifts_Past_3_Years', 'Giving_Amt_Past_3_FY',\n",
    "       'Avg_Gift_Amount_in_Past_3_Years', 'prospect_priority',\n",
    "       'acct_top_const', 'con_top_const', 'stage', 'married',\n",
    "       'num_active_comm_groups', 'gender', 'had_contact_report', 'portfolio_1',\n",
    "       'portfolio_2', 'portfolio_3', 'in_giving_society', 'westmont_grad',\n",
    "       'Num_Events_RSVP', 'Num_Total_IA', 'Num_Current_IA', 'Num_Total_BC',\n",
    "       'Num_Current_BC', 'Total_CR', 'Total_Sig_CR', 'Total_CR_in_past_year',\n",
    "       'Sig_in_past_year', 'In_person_CR']] = preprocessing.power_transform(donordata[['Capacity_Low_Value', 'Home_Value', 'Mail_Solicitable',\n",
    "       'Monthly_Givers', 'OGP_Prospects', '2FY_Athletics',\n",
    "       '2FY_Giving', '2FY_Museum', '2FY_Music', '2FY_Music_Patron',\n",
    "       '2FY_Westmont_Fund', '3FY_Athletics', '3FY_Giving', '3FY_Museum',\n",
    "       '3FY_Music', '3FY_Music_Patron', '3FY_Westmont_Fund', '4FY_Athletics',\n",
    "       '4FY_Giving', '4FY_Museum', '4FY_Music', '4FY_Music_Patron',\n",
    "       '4FY_Westmont_Fund', 'Age', 'Current_Parent', 'Emailable',\n",
    "       'Email_Opt_Out', 'Email_Solicitable', 'Trustee', 'WES_Member',\n",
    "       'Westmont_Foundation_Member', 'No_Children', 'No-Need_Parent',\n",
    "       'Not_Campaign', 'Westmont_Foundation_Account',\n",
    "       'Board_of_Advisors_Membership', 'Is_Email_Bounced',\n",
    "       'Account_Strength_for_Today_Donor', 'New_Donor', 'Largest_Gift',\n",
    "       'FY_Given_in_Past_3_Years', 'Num_Gifts_LFY', 'Num_Gifts_2FY',\n",
    "       'Num_Gifts_3FY', 'Num_Gifts', 'Balance_Expected_NFY', 'Avg_Gift_Amount',\n",
    "       'Avg_Gifts_Per_Year', 'Num_Gifts_Past_3_Years', 'Giving_Amt_Past_3_FY',\n",
    "       'Avg_Gift_Amount_in_Past_3_Years', 'prospect_priority',\n",
    "       'acct_top_const', 'con_top_const', 'stage', 'married',\n",
    "       'num_active_comm_groups', 'gender', 'had_contact_report', 'portfolio_1',\n",
    "       'portfolio_2', 'portfolio_3', 'in_giving_society', 'westmont_grad',\n",
    "       'Num_Events_RSVP', 'Num_Total_IA', 'Num_Current_IA', 'Num_Total_BC',\n",
    "       'Num_Current_BC', 'Total_CR', 'Total_Sig_CR', 'Total_CR_in_past_year',\n",
    "       'Sig_in_past_year', 'In_person_CR']], method='yeo-johnson')\n",
    "\n",
    "\n",
    "traindata = donordata.sample(frac=.8, random_state=10)\n",
    "donordata = donordata.drop(traindata.index)\n",
    "validationdata = donordata.sample(frac=.5, random_state=10)\n",
    "testdata = donordata.drop(validationdata.index)\n",
    "\n",
    "train_target_output = traindata.target_output.values\n",
    "validation_target_output = validationdata.target_output.values\n",
    "test_target_output = testdata.target_output.values\n",
    "\n",
    "traindata = traindata.drop(['target_output'], axis=1)\n",
    "traindata = traindata.set_index(['Contact_ID'], drop=True)\n",
    "validationdata = validationdata.drop(['target_output'], axis=1)\n",
    "validationdata = validationdata.set_index(['Contact_ID'], drop=True)\n",
    "testdata = testdata.drop(['target_output'], axis=1)\n",
    "testdata = testdata.set_index(['Contact_ID'], drop=True)"
   ]
  },
  {
   "cell_type": "code",
   "execution_count": 6,
   "metadata": {},
   "outputs": [],
   "source": [
    "# one hot encode the target output for the train data\n",
    "first = True\n",
    "for x in train_target_output:\n",
    "    if first:\n",
    "        train_one_hot_encoded = np.array([ast.literal_eval(x)])\n",
    "        first = False\n",
    "    else:\n",
    "        train_one_hot_encoded = np.append(train_one_hot_encoded, [ast.literal_eval(x)],axis=0)"
   ]
  },
  {
   "cell_type": "code",
   "execution_count": 7,
   "metadata": {},
   "outputs": [],
   "source": [
    "# one hot encode the target output for the validation data\n",
    "first = True\n",
    "for x in validation_target_output:\n",
    "    if first:\n",
    "        validation_one_hot_encoded = np.array([ast.literal_eval(x)])\n",
    "        first = False\n",
    "    else:\n",
    "        validation_one_hot_encoded = np.append(validation_one_hot_encoded, [ast.literal_eval(x)],axis=0)"
   ]
  },
  {
   "cell_type": "code",
   "execution_count": 8,
   "metadata": {},
   "outputs": [],
   "source": [
    "# one hot encode the target output for the test data\n",
    "first = True\n",
    "for x in test_target_output:\n",
    "    if first:\n",
    "        test_one_hot_encoded = np.array([ast.literal_eval(x)])\n",
    "        first = False\n",
    "    else:\n",
    "        test_one_hot_encoded = np.append(test_one_hot_encoded, [ast.literal_eval(x)],axis=0)"
   ]
  },
  {
   "cell_type": "code",
   "execution_count": 9,
   "metadata": {},
   "outputs": [],
   "source": [
    "num_inputs = len(traindata.columns)\n",
    "\n",
    "# initialize weights\n",
    "np.random.seed(1)\n",
    "weights_1 = np.random.randn(num_inputs,40)*np.sqrt(2/num_inputs)\n",
    "weights_2 = np.random.randn(40,40)*np.sqrt(2/40)\n",
    "weights_3 = np.random.randn(40,12)*np.sqrt(2/40)\n",
    "\n",
    "# initialize bias\n",
    "bias_1 = 1\n",
    "bias_2 = 1\n",
    "bias_3 = 1"
   ]
  },
  {
   "cell_type": "code",
   "execution_count": 10,
   "metadata": {},
   "outputs": [],
   "source": [
    "## takes in the inputs and adjusts the weights accordingly\n",
    "# If train is false, it makes a prediction and doesn't adjust the weights\n",
    "def train(batch, target_outputs, train):\n",
    "    global weights_3\n",
    "    global weights_2\n",
    "    global weights_1\n",
    "    global bias_1\n",
    "    global bias_2\n",
    "    global bias_3\n",
    "    \n",
    "    ## feedforward\n",
    "    layer_1_output = sigmoid(np.dot(batch, weights_1) + bias_1)\n",
    "    layer_2_output = sigmoid(np.dot(layer_1_output, weights_2) + bias_2)\n",
    "    output = softmax(np.dot(layer_2_output, weights_3) + bias_3)\n",
    "\n",
    "    if train:\n",
    "        ## backprop\n",
    "        # output layer\n",
    "        dcost_dpred = target_outputs - output\n",
    "        dz_dw3 = layer_2_output\n",
    "        \n",
    "        dcost_dw3 = np.dot(dz_dw3.T, dcost_dpred)\n",
    "        dcost_b3 = dcost_dpred\n",
    "        \n",
    "        # layer 2\n",
    "        dcost_doutput2 = np.dot(dcost_dpred, weights_3.T)\n",
    "        doutput2_dz = dsigmoid(layer_2_output)\n",
    "        dz_dw2 = layer_1_output\n",
    "        \n",
    "        dcost_dw2 = np.dot(dz_dw2.T, dcost_doutput2 * doutput2_dz)\n",
    "        dcost_b2 = dcost_doutput2 * doutput2_dz\n",
    "\n",
    "        # layer 1\n",
    "        dcost_doutput1 = np.dot(dcost_doutput2 * doutput2_dz, weights_2.T)\n",
    "        doutput1_dz = dsigmoid(layer_1_output)\n",
    "        dz_dw1 = batch\n",
    "        \n",
    "        dcost_dw1 = np.dot(dz_dw1.T, dcost_doutput1 * doutput1_dz)\n",
    "        dcost_b1 = dcost_doutput1 * doutput1_dz\n",
    "        \n",
    "        # update weights\n",
    "        weights_3 += dcost_dw3 * learning_rate\n",
    "        weights_2 += dcost_dw2 * learning_rate\n",
    "        weights_1 += dcost_dw1 * learning_rate\n",
    "\n",
    "        # update biases\n",
    "        bias_3 += np.average(dcost_b3) * learning_rate\n",
    "        bias_2 += np.average(dcost_b2) * learning_rate \n",
    "        bias_1 += np.average(dcost_b1) * learning_rate \n",
    "        \n",
    "    return output"
   ]
  },
  {
   "cell_type": "code",
   "execution_count": 11,
   "metadata": {},
   "outputs": [
    {
     "name": "stdout",
     "output_type": "stream",
     "text": [
      "0.9303196803196803\n",
      "0.9303196803196803\n",
      "0.9303196803196803\n",
      "0.9303196803196803\n",
      "0.9333166833166833\n",
      "0.9343156843156843\n",
      "0.9345654345654346\n",
      "0.9345654345654346\n",
      "0.9343156843156843\n",
      "0.9335664335664335\n",
      "0.9335664335664335\n",
      "0.9335664335664335\n",
      "0.9335664335664335\n",
      "0.9340659340659341\n",
      "0.9340659340659341\n",
      "0.9343156843156843\n"
     ]
    }
   ],
   "source": [
    "error_list = []\n",
    "index = []\n",
    "validation_data = validationdata.values\n",
    "train_data = traindata.values\n",
    "for i in range(1501):\n",
    "    train_output = train(train_data, train_one_hot_encoded, True)\n",
    "    error = log_loss(train_one_hot_encoded, train_output)\n",
    "    error_list.append(error)\n",
    "    index.append(i)\n",
    "    if (i % 100) == 0:\n",
    "        validation_output = train(validation_data, validation_one_hot_encoded, False)\n",
    "        accuracy = classification_accuracy(validation_one_hot_encoded, validation_output)\n",
    "        print(accuracy)\n",
    "    if (i % 250) == 0:\n",
    "         learning_rate *= .9"
   ]
  },
  {
   "cell_type": "code",
   "execution_count": 12,
   "metadata": {
    "scrolled": false
   },
   "outputs": [
    {
     "data": {
      "image/png": "[encoded data removed]",
      "text/plain": [
       "<Figure size 432x288 with 1 Axes>"
      ]
     },
     "metadata": {
      "needs_background": "light"
     },
     "output_type": "display_data"
    }
   ],
   "source": [
    "# plot error vs. epoch\n",
    "plt.plot(index, error_list)\n",
    "plt.xlabel('Epoch')\n",
    "plt.ylabel('Cross Entropy Loss')\n",
    "plt.title('Error')\n",
    "plt.show()"
   ]
  },
  {
   "cell_type": "code",
   "execution_count": 13,
   "metadata": {
    "scrolled": true
   },
   "outputs": [
    {
     "data": {
      "text/plain": [
       "0.9357869763376413"
      ]
     },
     "execution_count": 13,
     "metadata": {},
     "output_type": "execute_result"
    }
   ],
   "source": [
    "# Training classification accuracy\n",
    "classification_accuracy(train_one_hot_encoded, train_output)"
   ]
  },
  {
   "cell_type": "code",
   "execution_count": 14,
   "metadata": {},
   "outputs": [
    {
     "data": {
      "text/plain": [
       "0.9343156843156843"
      ]
     },
     "execution_count": 14,
     "metadata": {},
     "output_type": "execute_result"
    }
   ],
   "source": [
    "# Validation classification accuracy\n",
    "validation_output = train(validation_data, validation_one_hot_encoded, False)\n",
    "classification_accuracy(validation_one_hot_encoded, validation_output)"
   ]
  },
  {
   "cell_type": "raw",
   "metadata": {},
   "source": [
    "counter = 0\n",
    "total = 1\n",
    "for x in validation_one_hot_encoded:\n",
    "    if x[0] == 1:\n",
    "        counter += 1\n",
    "    total += 1\n",
    "print(counter/total)"
   ]
  },
  {
   "cell_type": "code",
   "execution_count": 15,
   "metadata": {},
   "outputs": [
    {
     "data": {
      "text/plain": [
       "0.9358141858141859"
      ]
     },
     "execution_count": 15,
     "metadata": {},
     "output_type": "execute_result"
    }
   ],
   "source": [
    "# Test classification accuracy\n",
    "test_data = testdata.values\n",
    "test_output = train(test_data, test_one_hot_encoded, False)\n",
    "classification_accuracy(test_one_hot_encoded, test_output)"
   ]
  },
  {
   "cell_type": "raw",
   "metadata": {},
   "source": [
    "really_wrong_list = []\n",
    "for wrong in wrong_list:\n",
    "    if abs(wrong[1] - wrong[2]) > 2:\n",
    "        really_wrong_list.append(wrong)"
   ]
  },
  {
   "cell_type": "code",
   "execution_count": null,
   "metadata": {},
   "outputs": [],
   "source": []
  }
 ],
 "metadata": {
  "kernelspec": {
   "display_name": "Python 3",
   "language": "python",
   "name": "python3"
  },
  "language_info": {
   "codemirror_mode": {
    "name": "ipython",
    "version": 3
   },
   "file_extension": ".py",
   "mimetype": "text/x-python",
   "name": "python",
   "nbconvert_exporter": "python",
   "pygments_lexer": "ipython3",
   "version": "3.6.3"
  }
 },
 "nbformat": 4,
 "nbformat_minor": 2
}
