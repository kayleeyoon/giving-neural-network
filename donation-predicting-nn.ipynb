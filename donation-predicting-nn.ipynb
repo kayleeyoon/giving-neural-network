{
 "cells": [
  {
   "cell_type": "code",
   "execution_count": 1,
   "metadata": {},
   "outputs": [],
   "source": [
    "import numpy as np\n",
    "import pandas as pd\n",
    "import matplotlib.pyplot as plt\n",
    "from sklearn import preprocessing\n",
    "from sklearn.metrics import log_loss\n",
    "import ast\n",
    "\n",
    "# gets rid of scientific notation of arrays when printing\n",
    "np.set_printoptions(suppress=True)\n",
    "\n",
    "# shows all columns \n",
    "pd.set_option('display.max_columns', None) "
   ]
  },
  {
   "cell_type": "code",
   "execution_count": 14,
   "metadata": {},
   "outputs": [],
   "source": [
    "learning_rate = .000005"
   ]
  },
  {
   "cell_type": "code",
   "execution_count": 3,
   "metadata": {},
   "outputs": [],
   "source": [
    "# softmax activation function\n",
    "def softmax(x):\n",
    "    expx = np.exp(x - np.max(x))\n",
    "    return expx/np.sum(expx, axis=1, keepdims=True)\n",
    "\n",
    "# relu activation function\n",
    "def relu(x):\n",
    "    return np.maximum(0, x)\n",
    "\n",
    "# derivative of relu activation function\n",
    "def drelu(x):\n",
    "    return np.where(x > 0, 1, 0)"
   ]
  },
  {
   "cell_type": "code",
   "execution_count": 4,
   "metadata": {},
   "outputs": [],
   "source": [
    "donordata = pd.read_csv('./data/clean-data.csv', index_col=None)\n",
    "\n",
    "traindata = donordata.sample(frac=.7, random_state=1)\n",
    "testdata = donordata.drop(traindata.index)\n",
    "\n",
    "train_target_output = traindata.target_output.values\n",
    "test_target_output = testdata.target_output.values\n",
    "\n",
    "traindata = traindata.drop(['target_output'], axis=1)\n",
    "traindata = traindata.set_index(['Contact_ID'], drop=True)\n",
    "testdata = testdata.drop(['target_output'], axis=1)\n",
    "testdata = testdata.set_index(['Contact_ID'], drop=True)"
   ]
  },
  {
   "cell_type": "code",
   "execution_count": 5,
   "metadata": {},
   "outputs": [],
   "source": [
    "# one hot encode the target output for the train data\n",
    "first = True\n",
    "for x in train_target_output:\n",
    "    if first:\n",
    "        train_one_hot_encoded = np.array([ast.literal_eval(x)])\n",
    "        first = False\n",
    "    else:\n",
    "        train_one_hot_encoded = np.append(train_one_hot_encoded, [ast.literal_eval(x)],axis=0)"
   ]
  },
  {
   "cell_type": "code",
   "execution_count": 6,
   "metadata": {},
   "outputs": [],
   "source": [
    "# one hot encode the target output for the test data\n",
    "first = True\n",
    "for x in test_target_output:\n",
    "    if first:\n",
    "        test_one_hot_encoded = np.array([ast.literal_eval(x)])\n",
    "        first = False\n",
    "    else:\n",
    "        test_one_hot_encoded = np.append(test_one_hot_encoded, [ast.literal_eval(x)],axis=0)"
   ]
  },
  {
   "cell_type": "code",
   "execution_count": 15,
   "metadata": {},
   "outputs": [],
   "source": [
    "# initialize weights\n",
    "np.random.seed(1)\n",
    "weights_1 = np.random.randn(61,30)*np.sqrt(2/61)\n",
    "weights_2 = np.random.randn(30,14)*np.sqrt(2/30)\n",
    "\n",
    "# initialize bias\n",
    "bias_1 = 1\n",
    "bias_2 = 1"
   ]
  },
  {
   "cell_type": "code",
   "execution_count": 8,
   "metadata": {},
   "outputs": [],
   "source": [
    "## takes in the inputs and adjusts the weights accordingly\n",
    "# If train is false, it makes a prediction and doesn't adjust the weights\n",
    "def train(batch, target_outputs, train):\n",
    "    global weights_2\n",
    "    global weights_1\n",
    "    global bias_1\n",
    "    global bias_2\n",
    "\n",
    "    ## feedforward\n",
    "    layer_1_output = relu(np.dot(batch, weights_1) + bias_1)\n",
    "    output = softmax(np.dot(layer_1_output, weights_2) + bias_2)\n",
    "\n",
    "    if train:\n",
    "        ## backprop\n",
    "        # output layer\n",
    "        dcost_dpred = target_outputs - output\n",
    "        dz_dw2 = layer_1_output\n",
    "\n",
    "        dcost_dw2 = np.dot(dz_dw2.T, dcost_dpred)\n",
    "        dcost_b2 = dcost_dpred\n",
    "\n",
    "        dcost_doutput1 = np.dot(dcost_dpred, weights_2.T)\n",
    "        doutput1_dz = drelu(layer_1_output)\n",
    "        dz_dw1 = batch\n",
    "\n",
    "        dcost_dw1 = np.dot(dz_dw1.T, dcost_doutput1 * doutput1_dz)\n",
    "        dcost_b1 = dcost_doutput1 * doutput1_dz\n",
    "        # update weights\n",
    "        weights_2 += dcost_dw2 * learning_rate\n",
    "        weights_1 += dcost_dw1 * learning_rate\n",
    "\n",
    "        # update biases\n",
    "        bias_2 += np.average(dcost_b2) * learning_rate\n",
    "        bias_1 += np.average(dcost_b1) * learning_rate\n",
    "    return output"
   ]
  },
  {
   "cell_type": "code",
   "execution_count": 16,
   "metadata": {},
   "outputs": [
    {
     "name": "stdout",
     "output_type": "stream",
     "text": [
      "2.840915415141836\n",
      "0.35445240364846736\n",
      "0.32038522402375486\n",
      "0.30459665935895003\n",
      "0.2948634439776719\n",
      "0.28835219072921625\n",
      "0.28363523875612184\n",
      "0.2799868917662131\n",
      "0.2770124072750072\n",
      "0.274430099523678\n",
      "0.272210709243149\n"
     ]
    }
   ],
   "source": [
    "error_list = []\n",
    "index = []\n",
    "train_data = preprocessing.scale(traindata.values)\n",
    "for i in range(1001):\n",
    "    train_output = train(train_data, train_one_hot_encoded, True)\n",
    "    error = log_loss(train_one_hot_encoded, train_output)\n",
    "    error_list.append(error)\n",
    "    index.append(i)\n",
    "    if (i % 100) == 0:\n",
    "        print(error)"
   ]
  },
  {
   "cell_type": "code",
   "execution_count": 10,
   "metadata": {
    "scrolled": false
   },
   "outputs": [
    {
     "data": {
      "image/png": "[encoded data removed]",
      "text/plain": [
       "<Figure size 432x288 with 1 Axes>"
      ]
     },
     "metadata": {
      "needs_background": "light"
     },
     "output_type": "display_data"
    }
   ],
   "source": [
    "# plot error vs. epoch\n",
    "plt.plot(index, error_list)\n",
    "plt.xlabel('Epoch')\n",
    "plt.ylabel('Cross Entropy Loss')\n",
    "plt.title('Error')\n",
    "plt.show()"
   ]
  },
  {
   "cell_type": "code",
   "execution_count": 11,
   "metadata": {},
   "outputs": [],
   "source": [
    "def classification_accuracy(targets, predictions) :\n",
    "    total = len(predictions)\n",
    "    correct = 0\n",
    "    for i in range(total):\n",
    "        predicted_class = np.argmax(predictions[i])\n",
    "        if targets[i][predicted_class] == 1:\n",
    "           correct += 1\n",
    "    return correct/total"
   ]
  },
  {
   "cell_type": "code",
   "execution_count": 12,
   "metadata": {},
   "outputs": [
    {
     "data": {
      "text/plain": [
       "0.9193430061949788"
      ]
     },
     "execution_count": 12,
     "metadata": {},
     "output_type": "execute_result"
    }
   ],
   "source": [
    "# classification accuracy of training data\n",
    "classification_accuracy(train_one_hot_encoded, train_output)"
   ]
  },
  {
   "cell_type": "code",
   "execution_count": 13,
   "metadata": {},
   "outputs": [
    {
     "data": {
      "text/plain": [
       "0.9094712818562191"
      ]
     },
     "execution_count": 13,
     "metadata": {},
     "output_type": "execute_result"
    }
   ],
   "source": [
    "# classification accuracy of test data\n",
    "test_data = preprocessing.scale(testdata.values)\n",
    "test_output = train(test_data, test_one_hot_encoded, False)\n",
    "classification_accuracy(test_one_hot_encoded, test_output)"
   ]
  },
  {
   "cell_type": "code",
   "execution_count": null,
   "metadata": {},
   "outputs": [],
   "source": []
  }
 ],
 "metadata": {
  "kernelspec": {
   "display_name": "Python 3",
   "language": "python",
   "name": "python3"
  },
  "language_info": {
   "codemirror_mode": {
    "name": "ipython",
    "version": 3
   },
   "file_extension": ".py",
   "mimetype": "text/x-python",
   "name": "python",
   "nbconvert_exporter": "python",
   "pygments_lexer": "ipython3",
   "version": "3.6.3"
  }
 },
 "nbformat": 4,
 "nbformat_minor": 2
}
