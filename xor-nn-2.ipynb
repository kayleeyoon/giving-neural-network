{
 "cells": [
  {
   "cell_type": "code",
   "execution_count": 1,
   "metadata": {},
   "outputs": [],
   "source": [
    "import numpy as np\n",
    "import matplotlib.pyplot as plt"
   ]
  },
  {
   "cell_type": "code",
   "execution_count": 2,
   "metadata": {},
   "outputs": [],
   "source": [
    "learning_rate = 5"
   ]
  },
  {
   "cell_type": "code",
   "execution_count": 3,
   "metadata": {},
   "outputs": [],
   "source": [
    "# sigmoid activation function\n",
    "def sigmoid(x):\n",
    "    return 1 / (1 + np.exp(-x))\n",
    "\n",
    "# derivative of sigmoid activation function\n",
    "def dsigmoid(x):\n",
    "    return x * (1 - x)"
   ]
  },
  {
   "cell_type": "code",
   "execution_count": 4,
   "metadata": {},
   "outputs": [],
   "source": [
    "# exclusive or function (true when number of true outputs is odd)\n",
    "inputs = np.array([\n",
    "    [0, 1], \n",
    "    [1, 0], \n",
    "    [0, 0], \n",
    "    [1, 1]\n",
    "])\n",
    "target_output = np.array([\n",
    "    [1], \n",
    "    [1], \n",
    "    [0], \n",
    "    [0]\n",
    "])"
   ]
  },
  {
   "cell_type": "code",
   "execution_count": 5,
   "metadata": {},
   "outputs": [],
   "source": [
    "np.random.seed(1)\n",
    "# initialize weights\n",
    "weights_1 = 2 * np.random.randn(2,2) - 1\n",
    "weights_2 = 2 * np.random.randn(2,1) - 1\n",
    "\n",
    "# initialize bias\n",
    "bias_1 = 1\n",
    "bias_2 = 1"
   ]
  },
  {
   "cell_type": "code",
   "execution_count": 6,
   "metadata": {},
   "outputs": [],
   "source": [
    "#takes in the inputs and adjusts the weights accordingly\n",
    "def train(batch):\n",
    "    global weights_2\n",
    "    global weights_1\n",
    "    global bias_1\n",
    "    global bias_2\n",
    "\n",
    "    ## feedforward\n",
    "    layer_1_output = sigmoid(np.dot(batch, weights_1) + bias_1)\n",
    "    output = sigmoid(np.dot(layer_1_output, weights_2) + bias_2)\n",
    "\n",
    "    ## backprop\n",
    "    \n",
    "    # output layer\n",
    "    dcost_dpred = target_output - output\n",
    "    dpred_dz = dsigmoid(output)\n",
    "    dz_dw2 = layer_1_output\n",
    "    \n",
    "    \n",
    "    dcost_dw2 = np.dot(dz_dw2.T, dcost_dpred * dpred_dz)\n",
    "    dcost_b2 = dcost_dpred * dpred_dz\n",
    "    \n",
    "    dcost_doutput1 = np.dot(dcost_dpred * dpred_dz, weights_2.T)\n",
    "    doutput1_dz = dsigmoid(layer_1_output)\n",
    "    dz_dw1 = batch\n",
    "    \n",
    "    dcost_dw1 = np.dot(dz_dw1.T, dcost_doutput1 * doutput1_dz)\n",
    "    dcost_b1 = dcost_doutput1 * doutput1_dz\n",
    "    \n",
    "    # update weights\n",
    "    weights_2 += dcost_dw2 * learning_rate\n",
    "    weights_1 += dcost_dw1 * learning_rate\n",
    "    \n",
    "    # update biases\n",
    "    bias_2 += np.average(dcost_b2) * learning_rate\n",
    "    bias_1 += np.average(dcost_b1) * learning_rate\n",
    "\n",
    "    return dcost_dpred, output"
   ]
  },
  {
   "cell_type": "code",
   "execution_count": 7,
   "metadata": {},
   "outputs": [
    {
     "name": "stdout",
     "output_type": "stream",
     "text": [
      "0.23797373724346188\n",
      "[[0.6460795 ]\n",
      " [0.6058299 ]\n",
      " [0.07163049]\n",
      " [0.81617047]]\n",
      "0.0006513475225398231\n",
      "[[0.97796159]\n",
      " [0.97784126]\n",
      " [0.01697785]\n",
      " [0.03661204]]\n",
      "0.00026032175346313156\n",
      "[[0.98609905]\n",
      " [0.98603311]\n",
      " [0.01108321]\n",
      " [0.02302475]]\n",
      "0.00015962653768545872\n",
      "[[0.98912996]\n",
      " [0.9890831 ]\n",
      " [0.00879786]\n",
      " [0.01799354]]\n",
      "0.00011427463809309727\n",
      "[[0.99081216]\n",
      " [0.99077529]\n",
      " [0.0075054 ]\n",
      " [0.01520709]]\n"
     ]
    }
   ],
   "source": [
    "error_list = []\n",
    "index = []\n",
    "for i in range(4001):\n",
    "    nn_error, nn_output = train(inputs)\n",
    "    mse = np.average(nn_error * nn_error)\n",
    "    error_list.append(mse)\n",
    "    index.append(i)\n",
    "    if (i % 1000) == 0:\n",
    "        print(mse)\n",
    "        print(nn_output)"
   ]
  },
  {
   "cell_type": "code",
   "execution_count": 8,
   "metadata": {
    "scrolled": true
   },
   "outputs": [
    {
     "data": {
      "image/png": "[encoded data removed]",
      "text/plain": [
       "<Figure size 432x288 with 1 Axes>"
      ]
     },
     "metadata": {
      "needs_background": "light"
     },
     "output_type": "display_data"
    }
   ],
   "source": [
    "# plot mse vs. epoch\n",
    "plt.plot(index, error_list)\n",
    "plt.xlabel('Epoch')\n",
    "plt.ylabel('Mean squared error (MSE)')\n",
    "plt.title('XOR Neural Network Error')\n",
    "plt.show()"
   ]
  },
  {
   "cell_type": "code",
   "execution_count": 9,
   "metadata": {},
   "outputs": [
    {
     "data": {
      "text/plain": [
       "0.00011427463809309727"
      ]
     },
     "execution_count": 9,
     "metadata": {},
     "output_type": "execute_result"
    }
   ],
   "source": [
    "error_list[4000] #0.00026032175346313156"
   ]
  },
  {
   "cell_type": "code",
   "execution_count": null,
   "metadata": {},
   "outputs": [],
   "source": []
  }
 ],
 "metadata": {
  "kernelspec": {
   "display_name": "Python 3",
   "language": "python",
   "name": "python3"
  },
  "language_info": {
   "codemirror_mode": {
    "name": "ipython",
    "version": 3
   },
   "file_extension": ".py",
   "mimetype": "text/x-python",
   "name": "python",
   "nbconvert_exporter": "python",
   "pygments_lexer": "ipython3",
   "version": "3.6.3"
  }
 },
 "nbformat": 4,
 "nbformat_minor": 2
}
