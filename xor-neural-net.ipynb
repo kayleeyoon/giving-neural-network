{
 "cells": [
  {
   "cell_type": "code",
   "execution_count": 1,
   "metadata": {},
   "outputs": [],
   "source": [
    "import numpy as np\n",
    "import matplotlib.pyplot as plt"
   ]
  },
  {
   "cell_type": "code",
   "execution_count": 2,
   "metadata": {},
   "outputs": [],
   "source": [
    "learning_rate = 5"
   ]
  },
  {
   "cell_type": "code",
   "execution_count": 3,
   "metadata": {},
   "outputs": [],
   "source": [
    "# sigmoid activation function\n",
    "def sigmoid(input):\n",
    "    return 1 / (1 + np.exp(-input))\n",
    "\n",
    "# derivative of sigmoid activation function\n",
    "def dsigmoid(input):\n",
    "    return input * (1 - input)\n",
    "\n",
    "# relu activation function\n",
    "def relu(x):\n",
    "    return np.maximum(0, x)\n",
    "\n",
    "# derivative of relu activation function\n",
    "def drelu(x):\n",
    "    return np.where(x > 0, 1, 0)"
   ]
  },
  {
   "cell_type": "code",
   "execution_count": 4,
   "metadata": {},
   "outputs": [],
   "source": [
    "# exclusive or function (true when number of true outputs is odd)\n",
    "inputs = np.array([\n",
    "    [0, 1], \n",
    "    [1, 0], \n",
    "    [0, 0], \n",
    "    [1, 1]\n",
    "])\n",
    "target_output = np.array([\n",
    "    [1], \n",
    "    [1], \n",
    "    [0], \n",
    "    [0]\n",
    "])"
   ]
  },
  {
   "cell_type": "code",
   "execution_count": 5,
   "metadata": {},
   "outputs": [],
   "source": [
    "np.random.seed(1)\n",
    "# initialize weights\n",
    "weights_1 = 2 * np.random.randn(2,2) - 1\n",
    "weights_2 = 2 * np.random.randn(2,1) - 1\n",
    "#weights_1 = np.random.randn(2,2)*np.sqrt(2/4)\n",
    "#weights_2 = np.random.randn(2,1)*np.sqrt(2/3)\n",
    "\n",
    "# initialize bias\n",
    "hidden_1_bias = 1\n",
    "output_bias = 1"
   ]
  },
  {
   "cell_type": "code",
   "execution_count": 6,
   "metadata": {},
   "outputs": [],
   "source": [
    "#takes in the inputs and adjusts the weights accordingly\n",
    "def train(batch):\n",
    "    global weights_2\n",
    "    global weights_1\n",
    "    global hidden_1_bias\n",
    "    global output_bias\n",
    "\n",
    "    ## feedforward\n",
    "    layer_1_output = sigmoid(np.add(np.dot(batch, weights_1), hidden_1_bias))\n",
    "    output = sigmoid(np.add(np.dot(layer_1_output, weights_2), output_bias))\n",
    "\n",
    "    ## backprop\n",
    "    \n",
    "    # output layer\n",
    "    output_error = np.subtract(target_output, output)\n",
    "    output_gradient = output_error * dsigmoid(output) \n",
    "    output_delta = np.dot(layer_1_output.T, output_gradient) \n",
    "\n",
    "    # hidden layer 1\n",
    "    layer_1_error = np.dot(output_gradient, weights_2.T)\n",
    "    layer_1_gradient = layer_1_error * dsigmoid(layer_1_output) \n",
    "    layer_1_delta = np.dot(batch.T, layer_1_gradient)\n",
    "\n",
    "    # update bias\n",
    "    output_bias += np.average(output_gradient) * learning_rate\n",
    "    hidden_1_bias += np.average(layer_1_gradient)* learning_rate\n",
    "    \n",
    "    # update weights\n",
    "    weights_2 += output_delta * learning_rate\n",
    "    weights_1 += layer_1_delta * learning_rate\n",
    "\n",
    "    return output_error, output"
   ]
  },
  {
   "cell_type": "code",
   "execution_count": 7,
   "metadata": {},
   "outputs": [
    {
     "name": "stdout",
     "output_type": "stream",
     "text": [
      "0.23797373724346188\n",
      "[[0.6460795 ]\n",
      " [0.6058299 ]\n",
      " [0.07163049]\n",
      " [0.81617047]]\n",
      "0.00011427463809309727\n",
      "[[0.99081216]\n",
      " [0.99077529]\n",
      " [0.0075054 ]\n",
      " [0.01520709]]\n",
      "5.2558839829416114e-05\n",
      "[[0.99378428]\n",
      " [0.99376347]\n",
      " [0.00517427]\n",
      " [0.01029237]]\n"
     ]
    }
   ],
   "source": [
    "error_list = []\n",
    "index = []\n",
    "for i in range(8001):\n",
    "    nn_error, nn_output = train(inputs)\n",
    "    mse = np.average(nn_error * nn_error)\n",
    "    error_list.append(mse)\n",
    "    index.append(i)\n",
    "    if (i % 4000) == 0:\n",
    "        print(mse)\n",
    "        print(nn_output)"
   ]
  },
  {
   "cell_type": "code",
   "execution_count": 8,
   "metadata": {
    "scrolled": true
   },
   "outputs": [
    {
     "data": {
      "image/png": "[encoded data removed]",
      "text/plain": [
       "<Figure size 432x288 with 1 Axes>"
      ]
     },
     "metadata": {
      "needs_background": "light"
     },
     "output_type": "display_data"
    }
   ],
   "source": [
    "# plot mse vs. epoch\n",
    "plt.plot(index, error_list)\n",
    "plt.xlabel('Epoch')\n",
    "plt.ylabel('Mean squared error (MSE)')\n",
    "plt.title('XOR Neural Network Error')\n",
    "plt.show()"
   ]
  },
  {
   "cell_type": "code",
   "execution_count": 9,
   "metadata": {},
   "outputs": [
    {
     "data": {
      "text/plain": [
       "0.00026032175346313156"
      ]
     },
     "execution_count": 9,
     "metadata": {},
     "output_type": "execute_result"
    }
   ],
   "source": [
    "error_list[2000] #0.00026032175346313156"
   ]
  },
  {
   "cell_type": "code",
   "execution_count": null,
   "metadata": {},
   "outputs": [],
   "source": []
  }
 ],
 "metadata": {
  "kernelspec": {
   "display_name": "Python 3",
   "language": "python",
   "name": "python3"
  },
  "language_info": {
   "codemirror_mode": {
    "name": "ipython",
    "version": 3
   },
   "file_extension": ".py",
   "mimetype": "text/x-python",
   "name": "python",
   "nbconvert_exporter": "python",
   "pygments_lexer": "ipython3",
   "version": "3.6.3"
  }
 },
 "nbformat": 4,
 "nbformat_minor": 2
}
