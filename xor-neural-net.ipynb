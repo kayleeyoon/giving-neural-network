{
 "cells": [
  {
   "cell_type": "code",
   "execution_count": null,
   "metadata": {},
   "outputs": [],
   "source": [
    "import numpy as np"
   ]
  },
  {
   "cell_type": "code",
   "execution_count": null,
   "metadata": {},
   "outputs": [],
   "source": [
    "learning_rate = .1"
   ]
  },
  {
   "cell_type": "code",
   "execution_count": null,
   "metadata": {},
   "outputs": [],
   "source": [
    "#activation function\n",
    "def sigmoid(input):\n",
    "    return 1 / (1 + np.exp(-input))"
   ]
  },
  {
   "cell_type": "code",
   "execution_count": null,
   "metadata": {},
   "outputs": [],
   "source": [
    "#derivative of activation function\n",
    "def dsigmoid(input):\n",
    "    return input * (1 - input)"
   ]
  },
  {
   "cell_type": "code",
   "execution_count": null,
   "metadata": {},
   "outputs": [],
   "source": [
    "#exclusive or function (true when number of true outputs is odd)\n",
    "inputs = np.array([\n",
    "    [0, 1], \n",
    "    [1, 0], \n",
    "    [0, 0], \n",
    "    [1, 1]\n",
    "])\n",
    "target_output = np.array([\n",
    "    [1], \n",
    "    [1], \n",
    "    [0], \n",
    "    [0]\n",
    "])"
   ]
  },
  {
   "cell_type": "code",
   "execution_count": null,
   "metadata": {},
   "outputs": [],
   "source": [
    "# initialize weights with mean 0\n",
    "weights_1 = 2 * np.random.random((3,2)) - 1\n",
    "weights_2 = 2 * np.random.random((3,1)) - 1\n",
    "\n",
    "# initialize bias\n",
    "hidden_1_bias = np.ones((inputs.shape[0], 1))\n",
    "output_bias = np.ones((inputs.shape[0], 1))"
   ]
  },
  {
   "cell_type": "code",
   "execution_count": null,
   "metadata": {},
   "outputs": [],
   "source": [
    "#takes in the inputs and adjusts the weights accordingly\n",
    "def train(batch):\n",
    "    global weights_2\n",
    "    global weights_1\n",
    "\n",
    "    ## feedforward\n",
    "    input_with_bias = np.concatenate((batch, hidden_1_bias), axis=1)\n",
    "    layer_1_output = sigmoid(np.dot(input_with_bias, weights_1))\n",
    "    layer_1_with_bias = np.concatenate((layer_1_output, hidden_1_bias), axis=1)\n",
    "    nn_output = sigmoid(np.dot(layer_1_with_bias, weights_2))\n",
    "\n",
    "    ## backprop\n",
    "    # output layer\n",
    "    nn_output_error = np.subtract(target_output, nn_output)\n",
    "    nn_output_delta = nn_output_error * dsigmoid(nn_output)\n",
    "\n",
    "    # hidden layer 1\n",
    "    weights_2_without_bias = np.delete(weights_2, weights_2.shape[0] - 1, 0)\n",
    "    layer_1_error = np.dot(nn_output_delta, weights_2_without_bias.T)\n",
    "    layer_1_delta = layer_1_error * dsigmoid(layer_1_output)\n",
    "\n",
    "    # update weights\n",
    "    weights_2 += np.dot(layer_1_with_bias.T, nn_output_delta) * learning_rate\n",
    "    weights_1 += np.dot(input_with_bias.T, layer_1_delta) * learning_rate\n",
    "    print(nn_output)"
   ]
  },
  {
   "cell_type": "code",
   "execution_count": null,
   "metadata": {},
   "outputs": [],
   "source": [
    "for i in range(30000):\n",
    "    train(inputs)"
   ]
  },
  {
   "cell_type": "code",
   "execution_count": null,
   "metadata": {},
   "outputs": [],
   "source": []
  }
 ],
 "metadata": {
  "kernelspec": {
   "display_name": "Python 3",
   "language": "python",
   "name": "python3"
  },
  "language_info": {
   "codemirror_mode": {
    "name": "ipython",
    "version": 3
   },
   "file_extension": ".py",
   "mimetype": "text/x-python",
   "name": "python",
   "nbconvert_exporter": "python",
   "pygments_lexer": "ipython3",
   "version": "3.6.3"
  }
 },
 "nbformat": 4,
 "nbformat_minor": 2
}
