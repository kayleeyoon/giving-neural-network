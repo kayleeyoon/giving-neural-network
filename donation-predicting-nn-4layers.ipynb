{
 "cells": [
  {
   "cell_type": "code",
   "execution_count": null,
   "metadata": {},
   "outputs": [],
   "source": [
    "import numpy as np\n",
    "import pandas as pd\n",
    "import matplotlib.pyplot as plt\n",
    "from sklearn import preprocessing\n",
    "from sklearn.metrics import log_loss\n",
    "import ast\n",
    "\n",
    "# gets rid of scientific notation of arrays when printing\n",
    "np.set_printoptions(suppress=True)\n",
    "\n",
    "# shows all columns \n",
    "pd.set_option('display.max_columns', None) "
   ]
  },
  {
   "cell_type": "code",
   "execution_count": null,
   "metadata": {},
   "outputs": [],
   "source": [
    "learning_rate = .00001"
   ]
  },
  {
   "cell_type": "code",
   "execution_count": null,
   "metadata": {},
   "outputs": [],
   "source": [
    "## Define activation functions\n",
    "# softmax activation function\n",
    "def softmax(x):\n",
    "    expx = np.exp(x - np.max(x))\n",
    "    return expx/np.sum(expx, axis=1, keepdims=True)\n",
    "\n",
    "# relu activation function\n",
    "def relu(x):\n",
    "    return np.maximum(0, x)\n",
    "\n",
    "# derivative of relu activation function\n",
    "def drelu(x):\n",
    "    return np.where(x > 0, 1, 0)"
   ]
  },
  {
   "cell_type": "code",
   "execution_count": null,
   "metadata": {},
   "outputs": [],
   "source": [
    "def classification_accuracy(targets, predictions) :\n",
    "    total = len(predictions)\n",
    "    correct = 0\n",
    "    for i in range(total):\n",
    "        predicted_class = np.argmax(predictions[i])\n",
    "        if targets[i][predicted_class] == 1:\n",
    "           correct += 1\n",
    "    return correct/total"
   ]
  },
  {
   "cell_type": "code",
   "execution_count": null,
   "metadata": {},
   "outputs": [],
   "source": [
    "donordata = pd.read_csv('./data/clean-data.csv', index_col=None)\n",
    "\n",
    "traindata = donordata.sample(frac=.8, random_state=1)\n",
    "testdata = donordata.drop(traindata.index)\n",
    "\n",
    "train_target_output = traindata.target_output.values\n",
    "test_target_output = testdata.target_output.values\n",
    "\n",
    "traindata = traindata.drop(['target_output'], axis=1)\n",
    "traindata = traindata.set_index(['Contact_ID'], drop=True)\n",
    "testdata = testdata.drop(['target_output'], axis=1)\n",
    "testdata = testdata.set_index(['Contact_ID'], drop=True)"
   ]
  },
  {
   "cell_type": "code",
   "execution_count": null,
   "metadata": {},
   "outputs": [],
   "source": [
    "# one hot encode the target output for the train data\n",
    "first = True\n",
    "for x in train_target_output:\n",
    "    if first:\n",
    "        train_one_hot_encoded = np.array([ast.literal_eval(x)])\n",
    "        first = False\n",
    "    else:\n",
    "        train_one_hot_encoded = np.append(train_one_hot_encoded, [ast.literal_eval(x)],axis=0)"
   ]
  },
  {
   "cell_type": "code",
   "execution_count": null,
   "metadata": {},
   "outputs": [],
   "source": [
    "# one hot encode the target output for the test data\n",
    "first = True\n",
    "for x in test_target_output:\n",
    "    if first:\n",
    "        test_one_hot_encoded = np.array([ast.literal_eval(x)])\n",
    "        first = False\n",
    "    else:\n",
    "        test_one_hot_encoded = np.append(test_one_hot_encoded, [ast.literal_eval(x)],axis=0)"
   ]
  },
  {
   "cell_type": "code",
   "execution_count": null,
   "metadata": {},
   "outputs": [],
   "source": [
    "num_inputs = len(traindata.columns)\n",
    "\n",
    "# initialize weights using He initialization\n",
    "np.random.seed(1)\n",
    "weights_1 = np.random.randn(num_inputs,40)*np.sqrt(2/num_inputs)\n",
    "weights_2 = np.random.randn(40,40)*np.sqrt(2/40)\n",
    "weights_3 = np.random.randn(40,40)*np.sqrt(2/40)\n",
    "weights_4 = np.random.randn(40,14)*np.sqrt(2/40)\n",
    "\n",
    "# initialize bias\n",
    "bias_1 = 0\n",
    "bias_2 = 0\n",
    "bias_3 = 0\n",
    "bias_4 = 0"
   ]
  },
  {
   "cell_type": "code",
   "execution_count": null,
   "metadata": {},
   "outputs": [],
   "source": [
    "## takes in the inputs and adjusts the weights accordingly\n",
    "# If train is false, it makes a prediction and doesn't adjust the weights\n",
    "def train(batch, target_outputs, train):\n",
    "    global weights_4\n",
    "    global weights_3\n",
    "    global weights_2\n",
    "    global weights_1\n",
    "    global bias_1\n",
    "    global bias_2\n",
    "    global bias_3\n",
    "    global bias_4\n",
    "    \n",
    "    ## feedforward\n",
    "    layer_1_output = relu(np.dot(batch, weights_1) + bias_1)\n",
    "    layer_2_output = relu(np.dot(layer_1_output, weights_2) + bias_2)\n",
    "    layer_3_output = relu(np.dot(layer_2_output, weights_3) + bias_3)\n",
    "    output = softmax(np.dot(layer_3_output, weights_4) + bias_4)\n",
    "\n",
    "    if train:\n",
    "        ## backprop\n",
    "        # output layer\n",
    "        dcost_dpred = target_outputs - output\n",
    "        dz_dw4 = layer_3_output\n",
    "        \n",
    "        dcost_dw4 = np.dot(dz_dw4.T, dcost_dpred)\n",
    "        dcost_b4 = dcost_dpred\n",
    "        \n",
    "        # layer 3\n",
    "        dcost_doutput3 = np.dot(dcost_dpred, weights_4.T)\n",
    "        doutput3_dz = drelu(layer_3_output)\n",
    "        dz_dw3 = layer_2_output\n",
    "        \n",
    "        dcost_dw3 = np.dot(dz_dw3.T, dcost_doutput3 * doutput3_dz)\n",
    "        dcost_b3 = dcost_doutput3 * doutput3_dz\n",
    "        \n",
    "        # layer 2\n",
    "        dcost_doutput2 = np.dot(dcost_doutput3 * doutput3_dz, weights_3.T)\n",
    "        doutput2_dz = drelu(layer_2_output)\n",
    "        dz_dw2 = layer_1_output\n",
    "        \n",
    "        dcost_dw2 = np.dot(dz_dw2.T, dcost_doutput2 * doutput2_dz)\n",
    "        dcost_b2 = dcost_doutput2 * doutput2_dz\n",
    "\n",
    "        # layer 1\n",
    "        dcost_doutput1 = np.dot(dcost_doutput2 * doutput2_dz, weights_2.T)\n",
    "        doutput1_dz = drelu(layer_1_output)\n",
    "        dz_dw1 = batch\n",
    "        \n",
    "        dcost_dw1 = np.dot(dz_dw1.T, dcost_doutput1 * doutput1_dz)\n",
    "        dcost_b1 = dcost_doutput1 * doutput1_dz\n",
    "        \n",
    "        # update weights\n",
    "        weights_4 += dcost_dw4 * learning_rate\n",
    "        weights_3 += dcost_dw3 * learning_rate\n",
    "        weights_2 += dcost_dw2 * learning_rate\n",
    "        weights_1 += dcost_dw1 * learning_rate\n",
    "\n",
    "        # update biases\n",
    "        bias_4 += np.average(dcost_b3) * learning_rate\n",
    "        bias_3 += np.average(dcost_b3) * learning_rate\n",
    "        bias_2 += np.average(dcost_b2) * learning_rate\n",
    "        bias_1 += np.average(dcost_b1) * learning_rate\n",
    "        \n",
    "    return output"
   ]
  },
  {
   "cell_type": "code",
   "execution_count": null,
   "metadata": {},
   "outputs": [],
   "source": [
    "error_list = []\n",
    "index = []\n",
    "train_data = preprocessing.scale(traindata.values)\n",
    "test_data = preprocessing.scale(testdata.values)\n",
    "for i in range(1001):\n",
    "    train_output = train(train_data, train_one_hot_encoded, True)\n",
    "    error = log_loss(train_one_hot_encoded, train_output)\n",
    "    error_list.append(error)\n",
    "    index.append(i)\n",
    "    if (i % 100) == 0:\n",
    "        test_output = train(test_data, test_one_hot_encoded, False)\n",
    "        accuracy = classification_accuracy(test_one_hot_encoded, test_output)\n",
    "        print(accuracy)"
   ]
  },
  {
   "cell_type": "code",
   "execution_count": null,
   "metadata": {
    "scrolled": false
   },
   "outputs": [],
   "source": [
    "# plot error vs. epoch\n",
    "plt.plot(index, error_list)\n",
    "plt.xlabel('Epoch')\n",
    "plt.ylabel('Cross Entropy Loss')\n",
    "plt.title('Error')\n",
    "plt.show()"
   ]
  },
  {
   "cell_type": "code",
   "execution_count": null,
   "metadata": {},
   "outputs": [],
   "source": [
    "# classification accuracy of training data\n",
    "classification_accuracy(train_one_hot_encoded, train_output)"
   ]
  },
  {
   "cell_type": "code",
   "execution_count": null,
   "metadata": {},
   "outputs": [],
   "source": [
    "# classification accuracy of test data\n",
    "test_data = preprocessing.scale(testdata.values)\n",
    "test_output = train(test_data, test_one_hot_encoded, False)\n",
    "classification_accuracy(test_one_hot_encoded, test_output)"
   ]
  },
  {
   "cell_type": "code",
   "execution_count": null,
   "metadata": {},
   "outputs": [],
   "source": []
  }
 ],
 "metadata": {
  "kernelspec": {
   "display_name": "Python 3",
   "language": "python",
   "name": "python3"
  },
  "language_info": {
   "codemirror_mode": {
    "name": "ipython",
    "version": 3
   },
   "file_extension": ".py",
   "mimetype": "text/x-python",
   "name": "python",
   "nbconvert_exporter": "python",
   "pygments_lexer": "ipython3",
   "version": "3.6.3"
  }
 },
 "nbformat": 4,
 "nbformat_minor": 2
}
