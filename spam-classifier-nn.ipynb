{
 "cells": [
  {
   "cell_type": "code",
   "execution_count": 1,
   "metadata": {},
   "outputs": [],
   "source": [
    "import numpy as np\n",
    "import matplotlib.pyplot as plt\n",
    "import pandas as pd"
   ]
  },
  {
   "cell_type": "code",
   "execution_count": 2,
   "metadata": {
    "scrolled": true
   },
   "outputs": [],
   "source": [
    "# data from https://archive.ics.uci.edu/ml/datasets/Spambase\n",
    "spamdata = pd.read_csv('./spamdata.csv', header=None, index_col=None)"
   ]
  },
  {
   "cell_type": "code",
   "execution_count": 3,
   "metadata": {},
   "outputs": [],
   "source": [
    "# TODO: implement adaptive learning rate\n",
    "learning_rate = .00006"
   ]
  },
  {
   "cell_type": "code",
   "execution_count": 4,
   "metadata": {},
   "outputs": [],
   "source": [
    "# relu activation function\n",
    "def relu(input):\n",
    "    return np.maximum(0, input)\n",
    "\n",
    "# derivative of relu activation function\n",
    "def drelu(input):\n",
    "    return np.where(input > 0, 1, 0)\n",
    "\n",
    "# sigmoid activation function\n",
    "def sigmoid(input):\n",
    "    return 1 / (1 + np.exp(-input))\n",
    "\n",
    "# derivative of sigmoid activation function\n",
    "def dsigmoid(input):\n",
    "    return input * (1 - input)"
   ]
  },
  {
   "cell_type": "code",
   "execution_count": 5,
   "metadata": {},
   "outputs": [],
   "source": [
    "# initialize weights\n",
    "weights_1 = np.random.randn(58,3)*np.sqrt(2/61)\n",
    "weights_2 = np.random.randn(4,1)*np.sqrt(2/5)"
   ]
  },
  {
   "cell_type": "code",
   "execution_count": 6,
   "metadata": {},
   "outputs": [],
   "source": [
    "# takes in the inputs and adjusts the weights accordingly\n",
    "def train(batch, target_outputs):\n",
    "    global weights_1\n",
    "    global weights_2\n",
    "    \n",
    "    # initialize bias\n",
    "    hidden_1_bias = np.ones((batch.shape[0], 1))\n",
    "    output_bias = np.ones((batch.shape[0], 1))\n",
    "\n",
    "    ## feedforward\n",
    "    input_with_bias = np.concatenate((batch, hidden_1_bias), axis=1)\n",
    "    layer_1_output = relu(np.dot(input_with_bias, weights_1))\n",
    "    layer_1_with_bias = np.concatenate((layer_1_output, hidden_1_bias), axis=1)\n",
    "\n",
    "    nn_output = sigmoid(np.dot(layer_1_with_bias, weights_2))\n",
    "\n",
    "    ## backprop\n",
    "    # output layer\n",
    "    nn_output_error = np.subtract(target_outputs, nn_output)\n",
    "    nn_output_delta = nn_output_error * dsigmoid(nn_output)\n",
    "\n",
    "    # hidden layer 1\n",
    "    weights_2_without_bias = np.delete(weights_2, weights_2.shape[0] - 1, 0)\n",
    "    layer_1_error = np.dot(nn_output_delta, weights_2_without_bias.T)\n",
    "    layer_1_delta = layer_1_error * drelu(layer_1_output)\n",
    "\n",
    "    # update weights\n",
    "    weights_2 += np.dot(layer_1_with_bias.T, nn_output_delta) * learning_rate\n",
    "    weights_1 += np.dot(input_with_bias.T, layer_1_delta) * learning_rate\n",
    "    return nn_output_error"
   ]
  },
  {
   "cell_type": "code",
   "execution_count": 7,
   "metadata": {
    "scrolled": true
   },
   "outputs": [
    {
     "name": "stdout",
     "output_type": "stream",
     "text": [
      "0.5929138843800629\n"
     ]
    },
    {
     "name": "stderr",
     "output_type": "stream",
     "text": [
      "/Library/Frameworks/Python.framework/Versions/3.6/lib/python3.6/site-packages/ipykernel_launcher.py:11: RuntimeWarning: overflow encountered in exp\n",
      "  # This is added back by InteractiveShellApp.init_path()\n"
     ]
    },
    {
     "name": "stdout",
     "output_type": "stream",
     "text": [
      "0.15429463658497924\n",
      "0.1433659387458906\n",
      "0.12950884274995103\n",
      "0.10961251840909625\n",
      "0.11369559747661165\n",
      "0.09238821577736597\n",
      "0.09146615909560425\n",
      "0.09079096623095777\n"
     ]
    }
   ],
   "source": [
    "error_list = []\n",
    "index = []\n",
    "batches = []\n",
    "\n",
    "# TODO: define train, validation, and test data sets\n",
    "while len(spamdata) >= 100 :\n",
    "    sample = spamdata.sample(n=100)\n",
    "    batches.append(sample)\n",
    "    spamdata = spamdata.drop(sample.index)\n",
    "batches.append(spamdata)\n",
    "    \n",
    "for i in range(4500):\n",
    "    mses = []\n",
    "    for batch in batches:\n",
    "        target_outputs = (batch.iloc[:,-1]).values.reshape(-1, 1)\n",
    "        nn_error = train(batch.drop(spamdata.columns[-1],axis=1).values, target_outputs)\n",
    "        mses.append(np.sum(nn_error * nn_error)/nn_error.shape[0])\n",
    "    avg_mse = sum(mses) / len(mses)\n",
    "    error_list.append(avg_mse)\n",
    "    index.append(i)\n",
    "    if (i % 500) == 0:\n",
    "        print(avg_mse)"
   ]
  },
  {
   "cell_type": "code",
   "execution_count": 8,
   "metadata": {},
   "outputs": [
    {
     "data": {
      "image/png": "[encoded data removed]",
      "text/plain": [
       "<Figure size 432x288 with 1 Axes>"
      ]
     },
     "metadata": {
      "needs_background": "light"
     },
     "output_type": "display_data"
    }
   ],
   "source": [
    "# plot mse vs. epoch\n",
    "plt.plot(index, error_list)\n",
    "plt.show()"
   ]
  },
  {
   "cell_type": "code",
   "execution_count": null,
   "metadata": {},
   "outputs": [],
   "source": []
  }
 ],
 "metadata": {
  "kernelspec": {
   "display_name": "Python 3",
   "language": "python",
   "name": "python3"
  },
  "language_info": {
   "codemirror_mode": {
    "name": "ipython",
    "version": 3
   },
   "file_extension": ".py",
   "mimetype": "text/x-python",
   "name": "python",
   "nbconvert_exporter": "python",
   "pygments_lexer": "ipython3",
   "version": "3.6.3"
  }
 },
 "nbformat": 4,
 "nbformat_minor": 2
}
