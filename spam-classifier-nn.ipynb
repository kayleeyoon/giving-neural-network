{
 "cells": [
  {
   "cell_type": "code",
   "execution_count": 1,
   "metadata": {},
   "outputs": [],
   "source": [
    "import numpy as np\n",
    "import pandas as pd\n",
    "import matplotlib.pyplot as plt\n",
    "from sklearn import preprocessing"
   ]
  },
  {
   "cell_type": "code",
   "execution_count": 2,
   "metadata": {},
   "outputs": [],
   "source": [
    "learning_rate = .001"
   ]
  },
  {
   "cell_type": "code",
   "execution_count": 3,
   "metadata": {},
   "outputs": [],
   "source": [
    "# sigmoid activation function\n",
    "def sigmoid(x):\n",
    "    return 1 / (1 + np.exp(-x))\n",
    "\n",
    "# derivative of sigmoid activation function\n",
    "def dsigmoid(x):\n",
    "    return x * (1 - x)"
   ]
  },
  {
   "cell_type": "code",
   "execution_count": 4,
   "metadata": {},
   "outputs": [],
   "source": [
    "# data from https://archive.ics.uci.edu/ml/datasets/Spambase\n",
    "spamdata = pd.read_csv('./spamdata.csv', header=None, index_col=None)\n",
    "#spamdata = spamdata.sample(n=30, random_state=1)\n",
    "target_outputs = (spamdata.iloc[:,-1]).values.reshape(-1, 1)"
   ]
  },
  {
   "cell_type": "code",
   "execution_count": 5,
   "metadata": {},
   "outputs": [],
   "source": [
    "np.random.seed(1)\n",
    "# initialize weights\n",
    "weights_1 = np.random.randn(57,25)*np.sqrt(2/4)\n",
    "weights_2 = np.random.randn(25,1)*np.sqrt(2/3)\n",
    "\n",
    "# initialize bias\n",
    "bias_1 = 1\n",
    "bias_2 = 1"
   ]
  },
  {
   "cell_type": "code",
   "execution_count": 6,
   "metadata": {},
   "outputs": [],
   "source": [
    "#takes in the inputs and adjusts the weights accordingly\n",
    "def train(batch, target_outputs):\n",
    "    global weights_2\n",
    "    global weights_1\n",
    "    global bias_1\n",
    "    global bias_2\n",
    "\n",
    "    ## feedforward\n",
    "    layer_1_output = sigmoid(np.dot(batch, weights_1) + bias_1)\n",
    "    output = sigmoid(np.dot(layer_1_output, weights_2) + bias_2)\n",
    "\n",
    "    ## backprop\n",
    "    \n",
    "    # output layer\n",
    "    dcost_dpred = target_outputs - output\n",
    "    dpred_dz = dsigmoid(output)\n",
    "    dz_dw2 = layer_1_output\n",
    "    \n",
    "    dcost_dw2 = np.dot(dz_dw2.T, dcost_dpred * dpred_dz)\n",
    "    dcost_b2 = dcost_dpred * dpred_dz\n",
    "    \n",
    "    dcost_doutput1 = np.dot(dcost_dpred * dpred_dz, weights_2.T)\n",
    "    doutput1_dz = dsigmoid(layer_1_output)\n",
    "    dz_dw1 = batch\n",
    "    \n",
    "    dcost_dw1 = np.dot(dz_dw1.T, dcost_doutput1 * doutput1_dz)\n",
    "    dcost_b1 = dcost_doutput1 * doutput1_dz\n",
    "    \n",
    "    # update weights\n",
    "    weights_2 += dcost_dw2 * learning_rate\n",
    "    weights_1 += dcost_dw1 * learning_rate\n",
    "    \n",
    "    # update biases\n",
    "    bias_2 += np.average(dcost_b2) * learning_rate\n",
    "    bias_1 += np.average(dcost_b1) * learning_rate\n",
    "\n",
    "    return dcost_dpred, output"
   ]
  },
  {
   "cell_type": "code",
   "execution_count": 7,
   "metadata": {},
   "outputs": [
    {
     "name": "stdout",
     "output_type": "stream",
     "text": [
      "0.5750750243392858\n",
      "0.0399286927996982\n",
      "0.03275545932079566\n",
      "0.0271357963237125\n",
      "0.02288531970032965\n"
     ]
    }
   ],
   "source": [
    "error_list = []\n",
    "index = []\n",
    "input_data = preprocessing.scale(spamdata.drop(spamdata.columns[-1],axis=1).values)\n",
    "\n",
    "for i in range(4001):\n",
    "    nn_error, nn_output = train(input_data, target_outputs)\n",
    "    mse = np.average(nn_error * nn_error)\n",
    "    error_list.append(mse)\n",
    "    index.append(i)\n",
    "    if (i % 1000) == 0:\n",
    "        print(mse)\n",
    "        #print(nn_output)"
   ]
  },
  {
   "cell_type": "code",
   "execution_count": 8,
   "metadata": {
    "scrolled": false
   },
   "outputs": [
    {
     "data": {
      "image/png": "[encoded data removed]",
      "text/plain": [
       "<Figure size 432x288 with 1 Axes>"
      ]
     },
     "metadata": {
      "needs_background": "light"
     },
     "output_type": "display_data"
    }
   ],
   "source": [
    "# plot mse vs. epoch\n",
    "plt.plot(index, error_list)\n",
    "plt.xlabel('Epoch')\n",
    "plt.ylabel('Mean squared error (MSE)')\n",
    "plt.title('Spam Classifier Error')\n",
    "plt.show()"
   ]
  },
  {
   "cell_type": "code",
   "execution_count": 9,
   "metadata": {},
   "outputs": [
    {
     "data": {
      "text/plain": [
       "0.02288531970032965"
      ]
     },
     "execution_count": 9,
     "metadata": {},
     "output_type": "execute_result"
    }
   ],
   "source": [
    "error_list[4000] #0.02288531970032965"
   ]
  },
  {
   "cell_type": "code",
   "execution_count": null,
   "metadata": {},
   "outputs": [],
   "source": []
  }
 ],
 "metadata": {
  "kernelspec": {
   "display_name": "Python 3",
   "language": "python",
   "name": "python3"
  },
  "language_info": {
   "codemirror_mode": {
    "name": "ipython",
    "version": 3
   },
   "file_extension": ".py",
   "mimetype": "text/x-python",
   "name": "python",
   "nbconvert_exporter": "python",
   "pygments_lexer": "ipython3",
   "version": "3.6.3"
  }
 },
 "nbformat": 4,
 "nbformat_minor": 2
}
